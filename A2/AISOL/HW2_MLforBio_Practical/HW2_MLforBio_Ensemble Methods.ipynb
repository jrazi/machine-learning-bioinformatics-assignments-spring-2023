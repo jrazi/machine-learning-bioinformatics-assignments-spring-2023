{
 "cells": [
  {
   "cell_type": "markdown",
   "metadata": {
    "id": "jO8Bc9YcB5RB"
   },
   "source": [
    "<img src='http://www-scf.usc.edu/~ghasemig/images/sharif.png' alt=\"SUT logo\" width=200 height=200 align=left class=\"saturate\" >\n",
    "\n",
    "<br>\n",
    "<font face=\"Times New Roman\">\n",
    "<div dir=ltr align=center>\n",
    "<font color=0F5298 size=7>\n",
    "    ML for Bioinformatics <br>\n",
    "<font color=2565AE size=5>\n",
    "    Computer Engineering Department <br>\n",
    "<font color=3C99D size=5>\n",
    "    Homework 2: Practical - Random Forest and XGboost <br>\n",
    "<font color=696880 size=4>\n",
    "    Bahar Oveisgharan (bahar.oveis.2000@gmail.com) <br>\n",
    "    Ghazal Farahani (farahaniqazal@gmail.com)\n",
    "\n",
    "____\n"
   ]
  },
  {
   "cell_type": "markdown",
   "metadata": {
    "id": "I5XXN4FcB5RG"
   },
   "source": [
    "### Full Name : Javad Razi\n",
    "### Student Number : 401204354\n",
    "__"
   ]
  },
  {
   "cell_type": "markdown",
   "metadata": {
    "id": "U2sVgR-sB5RG"
   },
   "source": [
    "### Breasr Cancer\n",
    "Most of us know someone who struggled with breast cancer, or at least heard about the struggles facing patients who are fighting against breast cancer.The most important part of a process of clinical decision-making in patients with cancers, in general, is the accurate estimation of prognosis and survival duration. Breast cancer patients with the same stage of the disease and the same clinical characteristics can have different treatment responses and overall survival.\n",
    "In this practical assignment, you are going to train a Random Forest and XGBoost model on <code>breast_cancer.csv</code> dataset."
   ]
  },
  {
   "cell_type": "markdown",
   "metadata": {
    "id": "nBPdzweDCTgX"
   },
   "source": [
    "Import all the libraries you may need here"
   ]
  },
  {
   "cell_type": "code",
   "execution_count": 1,
   "metadata": {
    "id": "cEiXTug2CXEc"
   },
   "outputs": [],
   "source": [
    "try: \n",
    "    import sklearn\n",
    "except:\n",
    "    %pip install scikit-learn\n",
    "try:\n",
    "    import pandas as pd\n",
    "except:\n",
    "    %pip install pandas\n",
    "try:\n",
    "    import xgboost as xgb\n",
    "except:\n",
    "    %pip install xgboost\n",
    "    \n",
    "from sklearn.model_selection import train_test_split\n",
    "from sklearn.ensemble import RandomForestClassifier\n",
    "    "
   ]
  },
  {
   "cell_type": "markdown",
   "metadata": {
    "id": "1e_UXHe3B5RH"
   },
   "source": [
    "#### Loading the Data"
   ]
  },
  {
   "cell_type": "code",
   "execution_count": 2,
   "metadata": {
    "id": "jaRibnlAB5RI"
   },
   "outputs": [],
   "source": [
    "from sklearn import set_config\n",
    "set_config(transform_output='pandas')\n",
    "pd.set_option('display.max_columns', None)\n",
    "pd.set_option('display.expand_frame_repr', False)\n",
    "pd.set_option('max_colwidth', None)\n",
    "# Load the dataset into a pandas dataframe\n",
    "df = pd.read_csv('breast_cancer.csv')"
   ]
  },
  {
   "cell_type": "markdown",
   "metadata": {
    "id": "5zPud3PpB5RJ"
   },
   "source": [
    "### Data Exploration\n",
    "#### Let's start off by exploring the files we just imported. it's not necessary to do any visualization just a statistical summary of the data would be enough. split your data to train and test."
   ]
  },
  {
   "cell_type": "code",
   "execution_count": 3,
   "metadata": {},
   "outputs": [
    {
     "name": "stdout",
     "output_type": "stream",
     "text": [
      "Training set summary:\n",
      "        Unnamed: 0  age_at_diagnosis  chemotherapy       cohort  neoplasm_histologic_grade  hormone_therapy  lymph_nodes_examined_positive  mutation_count  nottingham_prognostic_index  radio_therapy   tumor_size  tumor_stage\n",
      "count  1523.000000       1523.000000   1523.000000  1523.000000                1523.000000      1523.000000                    1523.000000     1523.000000                  1523.000000    1523.000000  1523.000000  1523.000000\n",
      "mean    949.209455         61.203283      0.204859     2.640184                   2.406789         0.606697                       2.028234        5.809266                     4.019258       0.598818    26.337064     1.748989\n",
      "std     546.712860         12.939164      0.403731     1.213920                   0.643978         0.488643                       4.168257        4.220676                     1.156107       0.490299    14.903876     0.540454\n",
      "min       0.000000         21.930000      0.000000     1.000000                   1.000000         0.000000                       0.000000        1.000000                     1.000000       0.000000     1.000000     0.000000\n",
      "25%     483.500000         51.580000      0.000000     2.000000                   2.000000         0.000000                       0.000000        3.000000                     3.046000       0.000000    17.950000     1.000000\n",
      "50%     951.000000         61.780000      0.000000     3.000000                   2.415939         1.000000                       0.000000        5.000000                     4.042000       1.000000    23.000000     1.750535\n",
      "75%    1412.000000         70.650000      0.000000     3.000000                   3.000000         1.000000                       2.000000        7.000000                     5.040500       1.000000    30.000000     2.000000\n",
      "max    1903.000000         96.290000      1.000000     5.000000                   3.000000         1.000000                      45.000000       80.000000                     6.320000       1.000000   182.000000     4.000000\n",
      "\n",
      "Test set summary:\n",
      "        Unnamed: 0  age_at_diagnosis  chemotherapy      cohort  neoplasm_histologic_grade  hormone_therapy  lymph_nodes_examined_positive  mutation_count  nottingham_prognostic_index  radio_therapy  tumor_size  tumor_stage\n",
      "count   381.000000        381.000000    381.000000  381.000000                 381.000000       381.000000                     381.000000      381.000000                   381.000000     381.000000  381.000000   381.000000\n",
      "mean    960.656168         60.622441      0.220472    2.658793                   2.452512         0.656168                       1.897638        5.251664                     4.088023       0.590551   25.845633     1.756712\n",
      "std     562.519548         13.142490      0.415110    1.287228                   0.613945         0.475610                       3.709521        2.991337                     1.096581       0.492379   15.783795     0.538291\n",
      "min      23.000000         28.290000      0.000000    1.000000                   1.000000         0.000000                       0.000000        1.000000                     1.030000       0.000000    1.000000     1.000000\n",
      "25%     450.000000         50.920000      0.000000    1.000000                   2.000000         0.000000                       0.000000        3.000000                     3.050000       0.000000   17.000000     1.750535\n",
      "50%     963.000000         61.220000      0.000000    3.000000                   3.000000         1.000000                       1.000000        5.000000                     4.044000       1.000000   22.000000     1.750535\n",
      "75%    1473.000000         70.420000      0.000000    3.000000                   3.000000         1.000000                       2.000000        7.000000                     5.040000       1.000000   30.000000     2.000000\n",
      "max    1894.000000         90.230000      1.000000    5.000000                   3.000000         1.000000                      31.000000       22.000000                     6.360000       1.000000  180.000000     4.000000\n"
     ]
    }
   ],
   "source": [
    "# Split the dataset into training and testing sets\n",
    "X = df.drop('overall_survival', axis=1)\n",
    "y = df['overall_survival']\n",
    "X_train, X_test, y_train, y_test = train_test_split(X, y, test_size=0.2, random_state=42)\n",
    "\n",
    "# Display a statistical summary of the data\n",
    "print(\"Training set summary:\")\n",
    "print(X_train.describe())\n",
    "print(\"\\nTest set summary:\")\n",
    "print(X_test.describe())\n"
   ]
  },
  {
   "cell_type": "markdown",
   "metadata": {
    "id": "DE7hEApWB5RK"
   },
   "source": [
    "### Data Preparation\n",
    "#### Creating two custom transformers to put on our pipeline:\n",
    "* To split the data into categorical and numerical features and\n",
    "* To preprocess the categorical features. \n",
    "* Create the X feature matrix and the y target vector.\n",
    "* split the data."
   ]
  },
  {
   "cell_type": "code",
   "execution_count": 4,
   "metadata": {
    "id": "2e66ULhnB5RK"
   },
   "outputs": [],
   "source": [
    "import pandas as pd\n",
    "from sklearn.base import BaseEstimator, TransformerMixin\n",
    "from sklearn.pipeline import Pipeline\n",
    "from sklearn.preprocessing import StandardScaler, OneHotEncoder\n",
    "from sklearn.compose import ColumnTransformer\n",
    "from sklearn.model_selection import train_test_split\n",
    "\n",
    "# Load the dataset into a pandas dataframe\n",
    "df = pd.read_csv('breast_cancer.csv').dropna()\n",
    "\n",
    "# Define custom transformers\n",
    "class CategoricalFeatureSelector(BaseEstimator, TransformerMixin):\n",
    "    def __init__(self):\n",
    "        pass\n",
    "    \n",
    "    def fit(self, X, y=None):\n",
    "        return self\n",
    "    \n",
    "    def transform(self, X):\n",
    "        return X.select_dtypes(include=['object'])\n",
    "\n",
    "class CategoricalPreprocessor(BaseEstimator, TransformerMixin):\n",
    "    def __init__(self):\n",
    "        pass\n",
    "    \n",
    "    def fit(self, X, y=None):\n",
    "        return self\n",
    "    \n",
    "    def transform(self, X):\n",
    "        ohe = OneHotEncoder(handle_unknown='ignore', sparse_output=False)\n",
    "        return ohe.fit_transform(X)\n",
    "\n",
    "# Create X feature matrix and y target vector\n",
    "X = df.drop('overall_survival', axis=1)\n",
    "y = df['overall_survival']\n",
    "\n",
    "\n",
    "# Split the data into training and testing sets\n",
    "X_train, X_test, y_train, y_test = train_test_split(X, y, test_size=0.2, random_state=42)\n",
    "\n",
    "# Define the preprocessing pipeline\n",
    "categorical_pipeline = Pipeline([\n",
    "    ('cat_selector', CategoricalFeatureSelector()),\n",
    "    ('cat_preprocessor', CategoricalPreprocessor())\n",
    "])\n",
    "\n",
    "preprocessing_pipeline = ColumnTransformer([\n",
    "    ('cat_pipeline', categorical_pipeline, X.columns.tolist())\n",
    "], remainder='passthrough')\n",
    "\n",
    "pipeline = Pipeline([\n",
    "    ('preprocessing', preprocessing_pipeline),\n",
    "    ('scaler', StandardScaler())\n",
    "])\n",
    "\n",
    "x_preprocess_pipe = pipeline\n",
    "X_preprocessed = pipeline.fit_transform(X)\n",
    "X_train_preprocessed, X_test_preprocessed, y_train_preprocessed, y_test_preprocessed = train_test_split(X_preprocessed, y, test_size=0.2, random_state=42)"
   ]
  },
  {
   "cell_type": "markdown",
   "metadata": {
    "id": "icoG9xBNC9Xr"
   },
   "source": [
    "# Implementing two different models"
   ]
  },
  {
   "cell_type": "markdown",
   "metadata": {
    "id": "ssH7NCsIB5RL"
   },
   "source": [
    "## Random Forest"
   ]
  },
  {
   "cell_type": "markdown",
   "metadata": {
    "id": "MP7VAAhcB5RL"
   },
   "source": [
    "### train the model"
   ]
  },
  {
   "cell_type": "code",
   "execution_count": 5,
   "metadata": {
    "id": "L4KpaB4OB5RL"
   },
   "outputs": [
    {
     "data": {
      "text/html": [
       "<style>#sk-container-id-1 {color: black;background-color: white;}#sk-container-id-1 pre{padding: 0;}#sk-container-id-1 div.sk-toggleable {background-color: white;}#sk-container-id-1 label.sk-toggleable__label {cursor: pointer;display: block;width: 100%;margin-bottom: 0;padding: 0.3em;box-sizing: border-box;text-align: center;}#sk-container-id-1 label.sk-toggleable__label-arrow:before {content: \"▸\";float: left;margin-right: 0.25em;color: #696969;}#sk-container-id-1 label.sk-toggleable__label-arrow:hover:before {color: black;}#sk-container-id-1 div.sk-estimator:hover label.sk-toggleable__label-arrow:before {color: black;}#sk-container-id-1 div.sk-toggleable__content {max-height: 0;max-width: 0;overflow: hidden;text-align: left;background-color: #f0f8ff;}#sk-container-id-1 div.sk-toggleable__content pre {margin: 0.2em;color: black;border-radius: 0.25em;background-color: #f0f8ff;}#sk-container-id-1 input.sk-toggleable__control:checked~div.sk-toggleable__content {max-height: 200px;max-width: 100%;overflow: auto;}#sk-container-id-1 input.sk-toggleable__control:checked~label.sk-toggleable__label-arrow:before {content: \"▾\";}#sk-container-id-1 div.sk-estimator input.sk-toggleable__control:checked~label.sk-toggleable__label {background-color: #d4ebff;}#sk-container-id-1 div.sk-label input.sk-toggleable__control:checked~label.sk-toggleable__label {background-color: #d4ebff;}#sk-container-id-1 input.sk-hidden--visually {border: 0;clip: rect(1px 1px 1px 1px);clip: rect(1px, 1px, 1px, 1px);height: 1px;margin: -1px;overflow: hidden;padding: 0;position: absolute;width: 1px;}#sk-container-id-1 div.sk-estimator {font-family: monospace;background-color: #f0f8ff;border: 1px dotted black;border-radius: 0.25em;box-sizing: border-box;margin-bottom: 0.5em;}#sk-container-id-1 div.sk-estimator:hover {background-color: #d4ebff;}#sk-container-id-1 div.sk-parallel-item::after {content: \"\";width: 100%;border-bottom: 1px solid gray;flex-grow: 1;}#sk-container-id-1 div.sk-label:hover label.sk-toggleable__label {background-color: #d4ebff;}#sk-container-id-1 div.sk-serial::before {content: \"\";position: absolute;border-left: 1px solid gray;box-sizing: border-box;top: 0;bottom: 0;left: 50%;z-index: 0;}#sk-container-id-1 div.sk-serial {display: flex;flex-direction: column;align-items: center;background-color: white;padding-right: 0.2em;padding-left: 0.2em;position: relative;}#sk-container-id-1 div.sk-item {position: relative;z-index: 1;}#sk-container-id-1 div.sk-parallel {display: flex;align-items: stretch;justify-content: center;background-color: white;position: relative;}#sk-container-id-1 div.sk-item::before, #sk-container-id-1 div.sk-parallel-item::before {content: \"\";position: absolute;border-left: 1px solid gray;box-sizing: border-box;top: 0;bottom: 0;left: 50%;z-index: -1;}#sk-container-id-1 div.sk-parallel-item {display: flex;flex-direction: column;z-index: 1;position: relative;background-color: white;}#sk-container-id-1 div.sk-parallel-item:first-child::after {align-self: flex-end;width: 50%;}#sk-container-id-1 div.sk-parallel-item:last-child::after {align-self: flex-start;width: 50%;}#sk-container-id-1 div.sk-parallel-item:only-child::after {width: 0;}#sk-container-id-1 div.sk-dashed-wrapped {border: 1px dashed gray;margin: 0 0.4em 0.5em 0.4em;box-sizing: border-box;padding-bottom: 0.4em;background-color: white;}#sk-container-id-1 div.sk-label label {font-family: monospace;font-weight: bold;display: inline-block;line-height: 1.2em;}#sk-container-id-1 div.sk-label-container {text-align: center;}#sk-container-id-1 div.sk-container {/* jupyter's `normalize.less` sets `[hidden] { display: none; }` but bootstrap.min.css set `[hidden] { display: none !important; }` so we also need the `!important` here to be able to override the default hidden behavior on the sphinx rendered scikit-learn.org. See: https://github.com/scikit-learn/scikit-learn/issues/21755 */display: inline-block !important;position: relative;}#sk-container-id-1 div.sk-text-repr-fallback {display: none;}</style><div id=\"sk-container-id-1\" class=\"sk-top-container\"><div class=\"sk-text-repr-fallback\"><pre>RandomForestClassifier(random_state=42)</pre><b>In a Jupyter environment, please rerun this cell to show the HTML representation or trust the notebook. <br />On GitHub, the HTML representation is unable to render, please try loading this page with nbviewer.org.</b></div><div class=\"sk-container\" hidden><div class=\"sk-item\"><div class=\"sk-estimator sk-toggleable\"><input class=\"sk-toggleable__control sk-hidden--visually\" id=\"sk-estimator-id-1\" type=\"checkbox\" checked><label for=\"sk-estimator-id-1\" class=\"sk-toggleable__label sk-toggleable__label-arrow\">RandomForestClassifier</label><div class=\"sk-toggleable__content\"><pre>RandomForestClassifier(random_state=42)</pre></div></div></div></div></div>"
      ],
      "text/plain": [
       "RandomForestClassifier(random_state=42)"
      ]
     },
     "execution_count": 5,
     "metadata": {},
     "output_type": "execute_result"
    }
   ],
   "source": [
    "# Train a Random Forest model on the preprocessed data\n",
    "rf_model = RandomForestClassifier(n_estimators=100, random_state=42)\n",
    "rf_model.fit(X_train_preprocessed, y_train)\n"
   ]
  },
  {
   "cell_type": "markdown",
   "metadata": {
    "id": "TI5qxBKQB5RM"
   },
   "source": [
    "### Model assessment\n",
    "#### Print Train Accuracy, Test Accuracy and classification Report.\n"
   ]
  },
  {
   "cell_type": "code",
   "execution_count": 6,
   "metadata": {
    "id": "zGz27IJvB5RM"
   },
   "outputs": [
    {
     "name": "stdout",
     "output_type": "stream",
     "text": [
      "Train Accuracy:  0.90625\n",
      "Test Accuracy:  0.5986842105263158\n"
     ]
    }
   ],
   "source": [
    "train_accuracy = rf_model.score(X_train_preprocessed, y_train)\n",
    "test_accuracy = rf_model.score(X_test_preprocessed, y_test)\n",
    "\n",
    "print(\"Train Accuracy: \", train_accuracy)\n",
    "print(\"Test Accuracy: \", test_accuracy)"
   ]
  },
  {
   "cell_type": "markdown",
   "metadata": {
    "id": "GBI9WYd-B5RM"
   },
   "source": [
    "### Hyperparameter tuning :\n",
    "#### Randomized Search Cross Validation and Grid Search Cross Validation\n",
    "report best hyperparameters in each part."
   ]
  },
  {
   "cell_type": "code",
   "execution_count": 7,
   "metadata": {
    "id": "2FBIJSI-B5RM"
   },
   "outputs": [
    {
     "name": "stdout",
     "output_type": "stream",
     "text": [
      "Randomized Search CV best parameters: {'n_estimators': 150, 'min_samples_split': 2, 'min_samples_leaf': 1, 'max_features': 'sqrt', 'max_depth': 5}\n",
      "Grid Search CV best parameters: {'max_depth': 10, 'max_features': 'sqrt', 'min_samples_leaf': 2, 'min_samples_split': 2, 'n_estimators': 200}\n",
      "Test accuracy with best hyperparameters: 0.6282894736842105\n",
      "              precision    recall  f1-score   support\n",
      "\n",
      "           0       0.67      0.78      0.72       184\n",
      "           1       0.54      0.40      0.46       120\n",
      "\n",
      "    accuracy                           0.63       304\n",
      "   macro avg       0.60      0.59      0.59       304\n",
      "weighted avg       0.62      0.63      0.62       304\n",
      "\n"
     ]
    }
   ],
   "source": [
    "\n",
    "# Define the parameter grid for Randomized Search Cross Validation\n",
    "from sklearn.metrics import classification_report, accuracy_score\n",
    "from sklearn.model_selection import GridSearchCV, RandomizedSearchCV\n",
    "\n",
    "\n",
    "param_distributions = {\n",
    "    'n_estimators': [50, 100, 150, 200],\n",
    "    'max_depth': [None, 5, 10, 15],\n",
    "    'min_samples_split': [2, 5, 10],\n",
    "    'min_samples_leaf': [1, 2, 4],\n",
    "    'max_features': ['sqrt']\n",
    "}\n",
    "\n",
    "# Perform Randomized Search Cross Validation to find the best hyperparameters\n",
    "rf_model = RandomForestClassifier(random_state=42)\n",
    "rf_random = RandomizedSearchCV(estimator=rf_model, param_distributions=param_distributions, n_iter=100, cv=5, random_state=42, n_jobs=-1)\n",
    "rf_random.fit(X_train_preprocessed, y_train)\n",
    "print(\"Randomized Search CV best parameters:\", rf_random.best_params_)\n",
    "\n",
    "# Define the parameter grid for Grid Search Cross Validation\n",
    "param_grid = {\n",
    "    'n_estimators': [100, 150, 200],\n",
    "    'max_depth': [None, 10, 15],\n",
    "    'min_samples_split': [2, 5],\n",
    "    'min_samples_leaf': [1, 2],\n",
    "    'max_features': ['sqrt']\n",
    "}\n",
    "\n",
    "# Perform Grid Search Cross Validation to find the best hyperparameters\n",
    "rf_grid = GridSearchCV(estimator=rf_model, param_grid=param_grid, cv=5, n_jobs=-1)\n",
    "rf_grid.fit(X_train_preprocessed, y_train)\n",
    "print(\"Grid Search CV best parameters:\", rf_grid.best_params_)\n",
    "\n",
    "# Make predictions on the test data using the trained model with best hyperparameters\n",
    "rf_best_model = RandomForestClassifier(**rf_grid.best_params_, random_state=42)\n",
    "rf_best_model.fit(X_train_preprocessed, y_train)\n",
    "y_test_pred = rf_best_model.predict(X_test_preprocessed)\n",
    "\n",
    "# Evaluate the performance of the model on the test data\n",
    "test_accuracy = accuracy_score(y_test, y_test_pred)\n",
    "print(\"Test accuracy with best hyperparameters:\", test_accuracy)\n",
    "print(classification_report(y_test, y_test_pred))"
   ]
  },
  {
   "cell_type": "markdown",
   "metadata": {
    "id": "39cwqDhLB5RM"
   },
   "source": [
    "### Find important features with Random Forest model \n",
    "#### Visualize feature scores of the features"
   ]
  },
  {
   "cell_type": "code",
   "execution_count": 8,
   "metadata": {
    "id": "9G1jOdwGB5RN"
   },
   "outputs": [
    {
     "data": {
      "image/png": "[encoded data removed]",
      "text/plain": [
       "<Figure size 1000x600 with 1 Axes>"
      ]
     },
     "metadata": {},
     "output_type": "display_data"
    }
   ],
   "source": [
    "# Get the feature importances and sort them in descending order\n",
    "from matplotlib import pyplot as plt\n",
    "\n",
    "\n",
    "feature_importances = pd.DataFrame(rf_best_model.feature_importances_, index=X_preprocessed.columns, columns=['importance']).sort_values('importance', ascending=False)\n",
    "feature_importances = feature_importances.iloc[:15, ]\n",
    "\n",
    "# Visualize the feature importances as a bar plot\n",
    "plt.figure(figsize=(10,6))\n",
    "plt.bar(feature_importances.index, feature_importances['importance'])\n",
    "plt.xticks(rotation=90)\n",
    "plt.xlabel('Features')\n",
    "plt.ylabel('Importance')\n",
    "plt.title('Feature Importances')\n",
    "plt.show()"
   ]
  },
  {
   "cell_type": "markdown",
   "metadata": {
    "id": "DdulRxFFDfSS"
   },
   "source": [
    "### * Improve Model (Bonus)\n",
    "In this bonus part, you can add your ideas for improving your model's performance. implement it and compare the results."
   ]
  },
  {
   "cell_type": "markdown",
   "metadata": {},
   "source": [
    "here are some ideas for improving the performance of the Random Forest model on the breast cancer dataset:\n",
    "\n",
    "Feature Selection: One way to improve the performance of the model is to perform feature selection to identify and remove irrelevant or redundant features. This can simplify the model and reduce overfitting, leading to better generalization performance. We can use techniques like Recursive Feature Elimination (RFE), SelectKBest, or PCA for feature selection.\n",
    "\n",
    "Ensemble Methods: Another way to improve the performance of the model is to use ensemble methods like bagging, boosting, or stacking. Bagging can reduce the variance of the model by training multiple instances of the same model on different subsets of the data and aggregating their predictions. Boosting can reduce the bias of the model by training multiple weak models on different subsets of the data and combining their predictions. Stacking can combine the predictions of multiple models with different strengths and weaknesses to improve the overall performance.\n",
    "\n",
    "Model Tuning: We can further improve the performance of the model by tuning its hyperparameters using techniques like Randomized Search Cross Validation or Grid Search Cross Validation. This can help us find the optimal set of hyperparameters for the model that minimize the bias and variance."
   ]
  },
  {
   "cell_type": "code",
   "execution_count": null,
   "metadata": {},
   "outputs": [
    {
     "name": "stdout",
     "output_type": "stream",
     "text": [
      "Accuracy of Random Forest Model with RFE: 0.5822368421052632\n",
      "Accuracy of Bagging Model with SelectKBest: 0.631578947368421\n",
      "Accuracy of AdaBoost Model with PCA: 0.5723684210526315\n"
     ]
    },
    {
     "name": "stderr",
     "output_type": "stream",
     "text": [
      "/opt/conda/lib/python3.10/site-packages/sklearn/base.py:432: UserWarning: X has feature names, but RandomForestClassifier was fitted without feature names\n",
      "  warnings.warn(\n"
     ]
    },
    {
     "name": "stdout",
     "output_type": "stream",
     "text": [
      "Accuracy of Stacking Model with RFE, SelectKBest and PCA: 0.625\n"
     ]
    }
   ],
   "source": [
    "from sklearn.decomposition import PCA\n",
    "from sklearn.model_selection import RandomizedSearchCV\n",
    "from sklearn.ensemble import RandomForestClassifier, BaggingClassifier, AdaBoostClassifier, StackingClassifier\n",
    "from sklearn.feature_selection import RFE, SelectKBest, f_classif\n",
    "from sklearn.metrics import accuracy_score\n",
    "\n",
    "# Load the dataset into a pandas dataframe\n",
    "df = pd.read_csv('breast_cancer.csv')\n",
    "\n",
    "# Perform feature selection using RFE\n",
    "rf_model = RandomForestClassifier(n_estimators=100, max_depth=10, min_samples_split=5, min_samples_leaf=1, max_features='sqrt', random_state=42)\n",
    "rfe_selector = RFE(rf_model, n_features_to_select=10, step=1)\n",
    "X_train_selected = rfe_selector.fit_transform(X_train_preprocessed, y_train)\n",
    "X_test_selected = rfe_selector.transform(X_test_preprocessed)\n",
    "\n",
    "# Train a Random Forest model on the selected features\n",
    "rf_model = RandomForestClassifier(n_estimators=100, max_depth=10, min_samples_split=5, min_samples_leaf=1, max_features='sqrt', random_state=42)\n",
    "rf_model.fit(X_train_selected, y_train)\n",
    "\n",
    "# Get the accuracy of the model on the test data\n",
    "y_pred = rf_model.predict(X_test_selected)\n",
    "accuracy = accuracy_score(y_test, y_pred)\n",
    "print(f\"Accuracy of Random Forest Model with RFE: {accuracy}\")\n",
    "\n",
    "# Perform feature selection using SelectKBest\n",
    "skb_selector = SelectKBest(f_classif, k=10)\n",
    "X_train_selected = skb_selector.fit_transform(X_train_preprocessed, y_train_preprocessed)\n",
    "X_test_selected = skb_selector.transform(X_test_preprocessed)\n",
    "\n",
    "# Train a Bagging Classifier on the selected features\n",
    "bagging_model = BaggingClassifier(estimator=rf_model, n_estimators=100, random_state=42)\n",
    "bagging_model.fit(X_train_selected, y_train_preprocessed)\n",
    "\n",
    "# Get the accuracy of the model on the test data\n",
    "y_pred = bagging_model.predict(X_test_selected)\n",
    "accuracy = accuracy_score(y_test_preprocessed, y_pred)\n",
    "print(f\"Accuracy of Bagging Model with SelectKBest: {accuracy}\")\n",
    "\n",
    "# Perform feature selection using PCA\n",
    "pca_selector = PCA(n_components=10, random_state=42)\n",
    "X_train_selected = pca_selector.fit_transform(X_train_preprocessed)\n",
    "X_test_selected = pca_selector.transform(X_test_preprocessed)\n",
    "\n",
    "# Train an AdaBoost Classifier on the selected features\n",
    "adaboost_model = AdaBoostClassifier(estimator=rf_model, n_estimators=100, random_state=42)\n",
    "adaboost_model.fit(X_train_selected, y_train_preprocessed)\n",
    "\n",
    "# Get the accuracy of the model on the test data\n",
    "y_pred = adaboost_model.predict(X_test_selected)\n",
    "accuracy = accuracy_score(y_test_preprocessed, y_pred)\n",
    "print(f\"Accuracy of AdaBoost Model with PCA: {accuracy}\")\n",
    "\n",
    "# Train a Stacking Classifier on the selected features\n",
    "estimators = [\n",
    "    ('rf', rf_model),\n",
    "    ('bagging', bagging_model),\n",
    "    ('adaboost', adaboost_model)\n",
    "]\n",
    "stacking_model = StackingClassifier(estimators=estimators, final_estimator=rf_model)\n",
    "stacking_model.fit(X_train_selected, y_train_preprocessed)\n",
    "\n",
    "# Get the accuracy of the model on the test data\n",
    "y_pred = stacking_model.predict(X_test_selected)\n",
    "accuracy = accuracy_score(y_test_preprocessed, y_pred)\n",
    "print(f\"Accuracy of Stacking Model with RFE, SelectKBest and PCA: {accuracy}\")\n",
    "\n",
    "# Tune the hyperparameters of the Random Forest model using Randomized Search CV\n",
    "param_distributions = {\n",
    "    'n_estimators': [100, 200, 300, 400, 500],\n",
    "    'max_depth': [5, 10, 15, 20, 25, 30, None],\n",
    "    'min_samples_split': [2, 5, 10],\n",
    "    'min_samples_leaf': [1, 2, 4],\n",
    "    'max_features': ['sqrt', 'log2', None],\n",
    "    'bootstrap': [True, False]\n",
    "}\n",
    "randomized_search = RandomizedSearchCV(rf_model, param_distributions, n_iter=100, cv=5, random_state=42, n_jobs=-1)\n",
    "randomized_search.fit(X_train_selected, y_train_preprocessed)\n",
    "\n",
    "# Print the best hyperparameters and their corresponding accuracy\n",
    "print(f\"Best Hyperparameters: {randomized_search.best_params_}\")\n",
    "print(f\"Accuracy with Best Hyperparameters: {randomized_search.best_score_}\")\n",
    "\n",
    "# Train a Random Forest model on the selected features with the best hyperparameters\n",
    "best_rf_model = RandomForestClassifier(**randomized_search.best_params_, random_state=42)\n",
    "best_rf_model.fit(X_train_selected, y_train_preprocessed)\n",
    "\n",
    "# Get the accuracy of the model on the test data\n",
    "y_pred = best_rf_model.predict(X_test_selected)\n",
    "accuracy = accuracy_score(y_test_preprocessed, y_pred)\n",
    "print(f\"Accuracy of Random Forest Model with Best Hyperparameters: {accuracy}\")"
   ]
  },
  {
   "cell_type": "markdown",
   "metadata": {
    "id": "IP9y4KlbB5RN"
   },
   "source": [
    "## XGBoost\n",
    "### Train the model"
   ]
  },
  {
   "cell_type": "code",
   "execution_count": null,
   "metadata": {
    "id": "zlIiW7hVB5RN"
   },
   "outputs": [],
   "source": [
    "import pandas as pd\n",
    "import xgboost as xgb\n",
    "from sklearn.model_selection import train_test_split\n",
    "from sklearn.metrics import accuracy_score\n",
    "\n",
    "# Convert the data to an XGBoost DMatrix\n",
    "dtrain = xgb.DMatrix(X_train_preprocessed, label=y_train_preprocessed)\n",
    "dtest = xgb.DMatrix(X_test_preprocessed, label=y_test_preprocessed)\n",
    "\n",
    "# Set the XGBoost parameters\n",
    "params = {\n",
    "    'max_depth': 3,\n",
    "    'eta': 0.1,\n",
    "    'objective': 'binary:logistic',\n",
    "    'eval_metric': 'error'\n",
    "}\n",
    "\n",
    "# Train the XGBoost model\n",
    "num_rounds = 100\n",
    "xgb_model = xgb.train(params, dtrain, num_rounds)\n",
    "\n",
    "# Make predictions on the test data\n",
    "y_pred = xgb_model.predict(dtest)\n",
    "y_pred_binary = [round(pred) for pred in y_pred]\n",
    "\n",
    "# Evaluate the accuracy of the model on the test data\n",
    "accuracy = accuracy_score(y_test_preprocessed, y_pred_binary)\n",
    "print(f\"Accuracy of XGBoost Model: {accuracy}\")"
   ]
  },
  {
   "cell_type": "markdown",
   "metadata": {
    "id": "PLFSUhl6B5RN"
   },
   "source": [
    "### Model assessment\n",
    "#### Print Train Accuracy, Test Accuracy and classification Report.\n",
    "\n"
   ]
  },
  {
   "cell_type": "code",
   "execution_count": null,
   "metadata": {
    "id": "V51DuD_3B5RN"
   },
   "outputs": [],
   "source": [
    "import pandas as pd\n",
    "import xgboost as xgb\n",
    "from sklearn.model_selection import train_test_split\n",
    "from sklearn.metrics import accuracy_score, classification_report\n",
    "\n",
    "y_train_pred = xgb_model.predict(dtrain)\n",
    "y_train_pred_binary = [round(pred) for pred in y_train_pred]\n",
    "\n",
    "# Evaluate the accuracy of the model on the train and test data\n",
    "train_accuracy = accuracy_score(y_train_preprocessed, y_train_pred_binary)\n",
    "test_accuracy = accuracy_score(y_test_preprocessed, y_pred_binary)\n",
    "\n",
    "print(\"Train Accuracy:\", train_accuracy)\n",
    "print(\"Test Accuracy:\", test_accuracy)\n",
    "\n",
    "# Print the classification report\n",
    "print(\"Classification Report:\\n\", classification_report(y_test_preprocessed, y_pred_binary))"
   ]
  },
  {
   "cell_type": "markdown",
   "metadata": {
    "id": "nHjv0Ud3B5RO"
   },
   "source": [
    "### Plot the results"
   ]
  },
  {
   "cell_type": "code",
   "execution_count": null,
   "metadata": {
    "id": "kghhayz8B5RO"
   },
   "outputs": [],
   "source": [
    "import pandas as pd\n",
    "import xgboost as xgb\n",
    "from sklearn.model_selection import train_test_split\n",
    "from sklearn.metrics import ConfusionMatrixDisplay, RocCurveDisplay, confusion_matrix\n",
    "\n",
    "cm = confusion_matrix(y_test_preprocessed, y_pred_binary)\n",
    "disp = ConfusionMatrixDisplay(confusion_matrix=cm)\n",
    "\n",
    "# plot confusion matrix\n",
    "disp.plot(cmap='Blues')\n",
    "\n",
    "# add title and axis labels\n",
    "plt.title('Confusion Matrix')\n",
    "plt.xlabel('Predicted Label')\n",
    "plt.ylabel('True Label')\n",
    "plt.show()"
   ]
  },
  {
   "cell_type": "code",
   "execution_count": null,
   "metadata": {},
   "outputs": [],
   "source": [
    "from sklearn.metrics import RocCurveDisplay\n",
    "\n",
    "disp_roc_curve = RocCurveDisplay.from_predictions(y_true=y_test_preprocessed, y_pred=y_pred_binary)\n",
    "\n",
    "# plot confusion matrix\n",
    "disp_roc_curve.plot(name='RocCurveDisplay')\n",
    "\n",
    "plt.show()"
   ]
  },
  {
   "cell_type": "markdown",
   "metadata": {
    "id": "JvzcxNzxB5RO"
   },
   "source": [
    "### Hyperparameter tuning: Grid Search and Cross validation\n",
    "* create a default XGBoost classifier.\n",
    "* create the Kfold object. You can use tratifiedKFold from sklearn.model_selection.\n",
    "* create the grid search object. You can use RandomizedSearchCV from sklearn.model_selection.\n",
    "* fit grid search."
   ]
  },
  {
   "cell_type": "code",
   "execution_count": null,
   "metadata": {
    "id": "7wZQNavnB5RO"
   },
   "outputs": [],
   "source": [
    "import pandas as pd\n",
    "import xgboost as xgb\n",
    "from sklearn.model_selection import StratifiedKFold, RandomizedSearchCV\n",
    "\n",
    "\n",
    "# Create the default XGBoost classifier\n",
    "xgb_model = xgb.XGBClassifier()\n",
    "\n",
    "# Create the KFold object\n",
    "kfold = StratifiedKFold(n_splits=5, shuffle=True, random_state=42)\n",
    "\n",
    "# Define the hyperparameter grid for RandomizedSearchCV\n",
    "param_grid = {\n",
    "    'max_depth': [3, 5, 7, 9],\n",
    "    'learning_rate': [0.01, 0.1, 0.5, 1],\n",
    "    'n_estimators': [50, 100, 200, 500],\n",
    "    'gamma': [0, 0.1, 0.5, 1],\n",
    "    'subsample': [0.5, 0.7, 1],\n",
    "    'colsample_bytree': [0.5, 0.7, 1],\n",
    "    'reg_alpha': [0, 0.1, 0.5, 1],\n",
    "    'reg_lambda': [0, 0.1, 0.5, 1]\n",
    "}\n",
    "\n",
    "# Create the grid search object\n",
    "grid_search = RandomizedSearchCV(\n",
    "    estimator=xgb_model,\n",
    "    param_distributions=param_grid,\n",
    "    n_iter=50,\n",
    "    scoring='accuracy',\n",
    "    cv=kfold,\n",
    "    n_jobs=-1,\n",
    "    random_state=42\n",
    ")\n",
    "\n",
    "# Fit the grid search object\n",
    "grid_search.fit(X_train_preprocessed, y_train_preprocessed)\n",
    "\n",
    "# Print the best hyperparameters and accuracy score\n",
    "print(\"Best Hyperparameters:\", grid_search.best_params_)\n",
    "print(\"Accuracy Score:\", grid_search.best_score_)"
   ]
  },
  {
   "cell_type": "markdown",
   "metadata": {
    "id": "2kSBv8dpB5RO"
   },
   "source": [
    "### Assessing model performance using the best model from grid search\n",
    "#### Print Train Accuracy, Test Accuracy and Classification Report."
   ]
  },
  {
   "cell_type": "code",
   "execution_count": null,
   "metadata": {
    "id": "sT7AgRtDB5RO"
   },
   "outputs": [],
   "source": [
    "import pandas as pd\n",
    "import xgboost as xgb\n",
    "from sklearn.model_selection import train_test_split, StratifiedKFold, RandomizedSearchCV\n",
    "from sklearn.metrics import accuracy_score, classification_report\n",
    "\n",
    "# Get the best model from grid search\n",
    "best_model = grid_search.best_estimator_\n",
    "\n",
    "# Make predictions on the train and test data using the best model\n",
    "y_train_pred = best_model.predict(X_train_preprocessed)\n",
    "y_test_pred = best_model.predict(X_test_preprocessed)\n",
    "\n",
    "# Evaluate the accuracy of the model on the train and test data\n",
    "train_accuracy = accuracy_score(y_train_preprocessed, y_train_pred)\n",
    "test_accuracy = accuracy_score(y_test_preprocessed, y_test_pred)\n",
    "\n",
    "print(\"Train Accuracy:\", train_accuracy)\n",
    "print(\"Test Accuracy:\", test_accuracy)\n",
    "\n",
    "# Print the classification report\n",
    "print(\"Classification Report:\\n\", classification_report(y_test_preprocessed, y_test_pred))"
   ]
  },
  {
   "cell_type": "markdown",
   "metadata": {
    "id": "BNRbwqeFB5RP"
   },
   "source": [
    "### Create the feature importances plot, plot a decision tree from the booster."
   ]
  },
  {
   "cell_type": "code",
   "execution_count": null,
   "metadata": {
    "id": "0uuAhFvPB5RP"
   },
   "outputs": [],
   "source": [
    "import matplotlib.pyplot as plt\n",
    "from xgboost import plot_importance\n",
    "\n",
    "xgb_model = best_model\n",
    "\n",
    "# Plot the feature importances\n",
    "plot_importance(xgb_model, max_num_features=15)\n",
    "plt.show()"
   ]
  },
  {
   "cell_type": "code",
   "execution_count": null,
   "metadata": {},
   "outputs": [],
   "source": [
    "from xgboost import plot_tree\n",
    "\n",
    "# Plot a decision tree from the booster\n",
    "plot_tree(xgb_model)\n",
    "plt.show()"
   ]
  },
  {
   "cell_type": "markdown",
   "metadata": {
    "id": "cJkzsT8rDlk5"
   },
   "source": [
    "### * Improve Model (Bonus)\n",
    "In this bonus part, you can add your ideas for improving your model's performance. You can implement your model and compare the results."
   ]
  },
  {
   "cell_type": "markdown",
   "metadata": {},
   "source": [
    "here are a few ideas for improving the performance of the XGBoost model:\n",
    "\n",
    "Feature engineering: It may be possible to create new features or transform existing features in a way that makes them more informative for the model. For example, we could create new features by combining existing features or by performing mathematical operations on them.\n",
    "\n",
    "Ensembling: We could try ensembling multiple models together to improve the overall performance. For example, we could try combining the XGBoost model with a random forest, or we could use a stacking approach where we train multiple models and use their predictions as features for a final model.\n",
    "\n",
    "Regularization: We could adjust the regularization parameters of the XGBoost model to reduce overfitting and improve generalization performance. For example, we could increase the values of the reg_alpha and reg_lambda hyperparameters.\n",
    "\n",
    "More advanced hyperparameter tuning: We could use more advanced methods for hyperparameter tuning, such as Bayesian optimization or genetic algorithms. These methods may be able to find better hyperparameters more efficiently than grid search or random search.\n",
    "\n",
    "Here's an example of how we could perform feature engineering by creating a new feature that represents the ratio of the mean radius to the mean texture for each sample:"
   ]
  },
  {
   "cell_type": "code",
   "execution_count": null,
   "metadata": {
    "id": "4RylEYZJDmPq"
   },
   "outputs": [],
   "source": [
    "import pandas as pd\n",
    "import xgboost as xgb\n",
    "from sklearn.model_selection import train_test_split, StratifiedKFold, RandomizedSearchCV\n",
    "from sklearn.metrics import accuracy_score, classification_report\n",
    "\n",
    "# Load the dataset into a pandas dataframe\n",
    "df_improved = pd.read_csv('breast_cancer.csv')\n",
    "df_improved['tumor_score'] = df_improved['tumor_size'] * df_improved['neoplasm_histologic_grade']\n",
    "\n",
    "# Create X feature matrix and y target vector\n",
    "X = df_improved.drop('overall_survival', axis=1)\n",
    "y = df_improved['overall_survival']\n",
    "\n",
    "X_improved = x_preprocess_pipe.fit_transform(X)\n",
    "\n",
    "X_train_improved, X_test_improved, y_train_improved, y_test_improved = train_test_split(X_improved, y, test_size=0.2, random_state=42)\n",
    "# Create the default XGBoost classifier\n",
    "xgb_model = xgb.XGBClassifier()\n",
    "\n",
    "# Create the KFold object\n",
    "kfold = StratifiedKFold(n_splits=5, shuffle=True, random_state=42)\n",
    "\n",
    "# Define the hyperparameter grid for RandomizedSearchCV\n",
    "param_grid = {\n",
    "    'max_depth': [3, 5, 7, 9],\n",
    "    'learning_rate': [0.01, 0.1, 0.5, 1],\n",
    "    'n_estimators': [50, 100, 200, 500],\n",
    "    'gamma': [0, 0.1, 0.5, 1],\n",
    "    'subsample': [0.5, 0.7, 1],\n",
    "    'colsample_bytree': [0.5, 0.7, 1],\n",
    "    'reg_alpha': [0, 0.1, 0.5, 1],\n",
    "    'reg_lambda': [0, 0.1, 0.5, 1]\n",
    "}\n",
    "\n",
    "# Create the grid search object\n",
    "grid_search = RandomizedSearchCV(\n",
    "    estimator=xgb_model,\n",
    "    param_distributions=param_grid,\n",
    "    n_iter=50,\n",
    "    scoring='accuracy',\n",
    "    cv=kfold,\n",
    "    n_jobs=-1,\n",
    "    random_state=42\n",
    ")\n",
    "\n",
    "# Fit the grid search object\n",
    "grid_search.fit(X_train_improved, y_train_improved)\n",
    "\n",
    "# Get the best model from grid search\n",
    "best_model = grid_search.best_estimator_\n",
    "\n",
    "# Make predictions on the train and test data using the best model\n",
    "y_train_pred = best_model.predict(X_train_improved)\n",
    "y_test_pred = best_model.predict(X_test_improved)\n",
    "\n",
    "# Evaluate the accuracy of the model on the train and test data\n",
    "train_accuracy = accuracy_score(y_train_improved, y_train_pred)\n",
    "test_accuracy = accuracy_score(y_test_improved, y_test_pred)\n",
    "\n",
    "print(\"Train Accuracy:\", train_accuracy)\n",
    "print(\"Test Accuracy:\", test_accuracy)\n",
    "\n",
    "# Print the classification report\n",
    "print(\"Classification Report:\\n\", classification_report(y_test_improved, y_test_pred))"
   ]
  },
  {
   "cell_type": "markdown",
   "metadata": {},
   "source": [
    "## Comparison between XGBoost and Random Forest Classifier"
   ]
  },
  {
   "cell_type": "markdown",
   "metadata": {
    "id": "b2tLkv1FEHKf"
   },
   "source": [
    "Compare the results from these two models. How Would you rate each method in terms of its performance? What's the difference between these models? explain."
   ]
  },
  {
   "cell_type": "markdown",
   "metadata": {},
   "source": [
    "Both XGBoost and Random Forest Classifier are popular tree-based ensemble methods used for classification tasks. Here's a comparison between the two:\n",
    "\n",
    "Performance:\n",
    "\n",
    "In terms of performance, both XGBoost and Random Forest Classifier can be very effective and achieve high accuracy on many datasets. However, the performance of each method can depend on the specific dataset and the hyperparameters used.\n",
    "\n",
    "In general, XGBoost tends to perform slightly better than Random Forest Classifier on many datasets, especially when the dataset is large and complex. XGBoost is known for its ability to handle high-dimensional data and learn complex interactions between features.\n",
    "\n",
    "However, Random Forest Classifier can sometimes perform better than XGBoost on smaller datasets or datasets with simpler relationships between features. Random Forest Classifier is also known for its ability to handle noisy data and outliers.\n",
    "\n",
    "Difference between models:\n",
    "\n",
    "The main difference between XGBoost and Random Forest Classifier is in how they build their decision trees.\n",
    "\n",
    "Random Forest Classifier builds decision trees independently of each other, using a random subset of the features at each split. This helps to reduce overfitting and increase the diversity of the trees in the ensemble.\n",
    "\n",
    "XGBoost builds decision trees sequentially, using the residuals of the previous trees to guide the construction of the next tree. This allows XGBoost to focus on the samples that are most difficult to classify and can lead to better performance.\n",
    "\n",
    "XGBoost also includes additional regularization parameters, such as L1 and L2 regularization, that can help to further reduce overfitting and improve generalization performance.\n",
    "\n",
    "Another difference is that XGBoost uses a gradient boosting approach, while Random Forest Classifier uses a bagging approach. This means that XGBoost tries to minimize the errors of the previous trees, while Random Forest Classifier tries to reduce the variance of the ensemble by averaging the predictions of the trees.\n",
    "\n",
    "Overall, both XGBoost and Random Forest Classifier are powerful methods that can be effective for classification tasks. The choice between them may depend on the specific dataset and the performance requirements of the task."
   ]
  }
 ],
 "metadata": {
  "colab": {
   "provenance": []
  },
  "kernelspec": {
   "display_name": "Python 3 (ipykernel)",
   "language": "python",
   "name": "python3"
  },
  "language_info": {
   "name": "python",
   "version": "3.10.7"
  },
  "pycharm": {
   "stem_cell": {
    "cell_type": "raw",
    "metadata": {
     "collapsed": false
    },
    "source": []
   }
  }
 },
 "nbformat": 4,
 "nbformat_minor": 4
}
