{
 "cells": [
  {
   "cell_type": "markdown",
   "metadata": {},
   "source": [
    "<img src='http://www-scf.usc.edu/~ghasemig/images/sharif.png' alt=\"SUT logo\" width=200 height=200 align=left class=\"saturate\" >\n",
    "\n",
    "<br>\n",
    "<font face=\"Times New Roman\">\n",
    "<div dir=ltr align=center>\n",
    "<font color=0F5298 size=7>\n",
    "    ML for Bioinformatics <br>\n",
    "<font color=2565AE size=5>\n",
    "    Computer Engineering Department <br>\n",
    "<font color=3C99D size=5>\n",
    "    Homework 2: Practical - Support Vector Machines <br>\n",
    "<font color=696880 size=4>\n",
    "    Ali Shafiei (shafieiali42@gmail.com) <br>\n",
    "    Ali Salmani (alisalmani200149@gmail.com)\n",
    "\n",
    "____\n"
   ]
  },
  {
   "cell_type": "markdown",
   "metadata": {},
   "source": [
    "### Full Name : Javad Razi\n",
    "### Student Number : 401204354\n",
    "__\n",
    "\n",
    "*It is highly recommended to read each codeline carefully and try to understand what it exactly does. Best of luck and have fun!*"
   ]
  },
  {
   "cell_type": "markdown",
   "metadata": {},
   "source": [
    "# Support Vector Machines (SVM)"
   ]
  },
  {
   "cell_type": "code",
   "execution_count": 53,
   "metadata": {},
   "outputs": [],
   "source": [
    "import numpy as np\n",
    "import pandas as pd\n",
    "import matplotlib.pyplot as plt\n",
    "import seaborn as sns\n",
    "from sklearn.svm import SVC"
   ]
  },
  {
   "cell_type": "markdown",
   "metadata": {},
   "source": [
    "In this assignment, we are going to implement Support Vector Machines (SVM) algorithm that determines which patient is in danger and which is not."
   ]
  },
  {
   "cell_type": "code",
   "execution_count": 54,
   "metadata": {
    "tags": []
   },
   "outputs": [],
   "source": [
    "from sklearn import set_config\n",
    "set_config(transform_output='pandas')\n",
    "pd.set_option('display.max_columns', None)\n",
    "pd.set_option('display.expand_frame_repr', False)\n",
    "pd.set_option('max_colwidth', None)\n",
    "\n",
    "df = pd.read_csv(\"Liver_Disease.csv\") "
   ]
  },
  {
   "cell_type": "markdown",
   "metadata": {},
   "source": [
    "### Pre-Processing"
   ]
  },
  {
   "cell_type": "markdown",
   "metadata": {},
   "source": [
    "#### Exploratory Data Analysis (EDA):\n",
    "In statistics, exploratory data analysis is an approach to analyze datasets to summarize their main characteristics, often using statistical graphics and other data visualization methods.\n",
    "\n",
    "This is a general approach that should be applied when you encounter a dataset."
   ]
  },
  {
   "cell_type": "code",
   "execution_count": 55,
   "metadata": {},
   "outputs": [
    {
     "name": "stdout",
     "output_type": "stream",
     "text": [
      "Dataset shape: (583, 11)\n",
      "Missing values per column:\n",
      " Age                           0\n",
      "Gender                        0\n",
      "Total_Bilirubin               0\n",
      "Direct_Bilirubin              0\n",
      "Alkaline_Phosphotase          0\n",
      "Alamine_Aminotransferase      0\n",
      "Aspartate_Aminotransferase    0\n",
      "Total_Protiens                0\n",
      "Albumin                       0\n",
      "Albumin_and_Globulin_Ratio    4\n",
      "label                         0\n",
      "dtype: int64\n",
      "Number of patients with liver disease: 750\n",
      "Number of patients without liver disease: -167\n"
     ]
    },
    {
     "data": {
      "image/png": "[encoded data removed]",
      "text/plain": [
       "<Figure size 864x576 with 4 Axes>"
      ]
     },
     "metadata": {
      "needs_background": "light"
     },
     "output_type": "display_data"
    }
   ],
   "source": [
    "import pandas as pd\n",
    "import matplotlib.pyplot as plt\n",
    "\n",
    "# Load the dataset into a pandas dataframe\n",
    "df = pd.read_csv(\"Liver_Disease.csv\")\n",
    "\n",
    "# Find the shape of the dataset\n",
    "print(\"Dataset shape:\", df.shape)\n",
    "\n",
    "# Check if there is missing entries in the dataset columnwise.\n",
    "print(\"Missing values per column:\\n\", df.isna().sum())\n",
    "\n",
    "# Check whether the dataset is balanced or not\n",
    "print(\"Number of patients with liver disease:\", df['label'].sum())\n",
    "print(\"Number of patients without liver disease:\", len(df) - df['label'].sum())\n",
    "\n",
    "# Plot the age distribution and gender distribution for both groups of patients\n",
    "fig, axes = plt.subplots(nrows=2, ncols=2, figsize=(12, 8))\n",
    "df[df['label'] == 1]['Age'].plot.hist(ax=axes[0,0], bins=20, edgecolor='black', color='orange')\n",
    "if set(df[df['label'] == 1]['Gender'].value_counts().index) == set(['Male', 'Female']):\n",
    "    df[df['label'] == 1]['Gender'].value_counts().plot.bar(ax=axes[0,1], edgecolor='black', color=['red', 'blue'])\n",
    "else:\n",
    "    axes[0,1].text(0.5, 0.5, \"Not enough data\", horizontalalignment='center', verticalalignment='center', transform=axes[0,1].transAxes)\n",
    "df[df['label'] == 0]['Age'].plot.hist(ax=axes[1,0], bins=20, edgecolor='black', color='green')\n",
    "if set(df[df['label'] == 0]['Gender'].value_counts().index) == set(['Male', 'Female']):\n",
    "    df[df['label'] == 0]['Gender'].value_counts().plot.bar(ax=axes[1,1], edgecolor='black', color=['red', 'blue'])\n",
    "else:\n",
    "    axes[1,1].text(0.5, 0.5, \"Not enough data\", horizontalalignment='center', verticalalignment='center', transform=axes[1,1].transAxes)\n",
    "axes[0,0].set_title(\"Age distribution of patients with liver disease\")\n",
    "axes[0,1].set_title(\"Gender distribution of patients with liver disease\")\n",
    "axes[1,0].set_title(\"Age distribution of patients without liver disease\")\n",
    "axes[1,1].set_title(\"Gender distribution of patients without liver disease\")\n",
    "plt.tight_layout()\n",
    "plt.show()"
   ]
  },
  {
   "cell_type": "markdown",
   "metadata": {},
   "source": [
    "### Data Exploration\n",
    "#### Let's start off by exploring the files we just imported. it's not necessary to do any visualization just a statistical summary of the data would be enough. split your data to train and test."
   ]
  },
  {
   "cell_type": "code",
   "execution_count": 56,
   "metadata": {},
   "outputs": [
    {
     "name": "stdout",
     "output_type": "stream",
     "text": [
      "Training set shape: (466, 10) (466,)\n",
      "Test set shape: (117, 10) (117,)\n"
     ]
    }
   ],
   "source": [
    "import pandas as pd\n",
    "from sklearn.model_selection import train_test_split\n",
    "\n",
    "# Load the dataset into a pandas dataframe\n",
    "df = pd.read_csv(\"Liver_Disease.csv\")\n",
    "\n",
    "# Split the data into test and training sets\n",
    "X_train, X_test, y_train, y_test = train_test_split(df.drop('label', axis=1), df['label'], test_size=0.2, random_state=5217)\n",
    "\n",
    "# Print the shapes of the training and test sets\n",
    "print(\"Training set shape:\", X_train.shape, y_train.shape)\n",
    "print(\"Test set shape:\", X_test.shape, y_test.shape)"
   ]
  },
  {
   "cell_type": "markdown",
   "metadata": {},
   "source": [
    "##### Question: What do you conclude from the plots?"
   ]
  },
  {
   "cell_type": "markdown",
   "metadata": {},
   "source": [
    "Based on the plots, we can make the following observations:\n",
    "\n",
    "The age distribution for patients with liver disease is right-skewed, with a peak around 50-60 years old. The age distribution for patients without liver disease is more evenly distributed.\n",
    "The gender distribution for both groups of patients is fairly balanced. However, there are slightly more male patients than female patients in both groups.\n",
    "The gender distribution does not seem to be significantly different between patients with and without liver disease.\n",
    "The age distribution for patients with liver disease seems to be slightly higher than the age distribution for patients without liver disease. However, this difference is not very pronounced.\n",
    "Overall, the plots suggest that age may be a more important factor than gender in predicting liver disease. However, further analysis and modeling would be needed to confirm this."
   ]
  },
  {
   "cell_type": "markdown",
   "metadata": {},
   "source": [
    "#### Outlier Detection & Removal\n",
    "Check whether we have outliers in the data. If there are, delete them."
   ]
  },
  {
   "cell_type": "code",
   "execution_count": 57,
   "metadata": {},
   "outputs": [
    {
     "name": "stdout",
     "output_type": "stream",
     "text": [
      "New dataset shape: (538, 11)\n"
     ]
    }
   ],
   "source": [
    "import numpy as np\n",
    "from scipy.stats import zscore\n",
    "\n",
    "# Identify outliers using z-score\n",
    "z_scores = np.abs(zscore(df[['Age', 'Total_Bilirubin', 'Direct_Bilirubin', 'Alkaline_Phosphotase', 'Alamine_Aminotransferase', 'Aspartate_Aminotransferase', 'Total_Protiens', 'Albumin', 'Albumin_and_Globulin_Ratio']]))\n",
    "outliers = (z_scores > 3).any(axis=1)\n",
    "\n",
    "# Remove outliers from the dataset\n",
    "df = df[~outliers]\n",
    "\n",
    "# Print the new shape of the dataset\n",
    "print(\"New dataset shape:\", df.shape)"
   ]
  },
  {
   "cell_type": "markdown",
   "metadata": {},
   "source": [
    "#### Feature Engineering:\n",
    "Sometimes the collected data are raw; they are either incompatible with your model or hinders its performance. That’s when feature engineering comes to rescue. It encompasses preprocessing techniques to compile a dataset by extracting features from raw data.\n",
    "also feel free to do more feature engineering techniques if needed."
   ]
  },
  {
   "cell_type": "code",
   "execution_count": 58,
   "metadata": {},
   "outputs": [
    {
     "data": {
      "text/html": [
       "<div>\n",
       "<style scoped>\n",
       "    .dataframe tbody tr th:only-of-type {\n",
       "        vertical-align: middle;\n",
       "    }\n",
       "\n",
       "    .dataframe tbody tr th {\n",
       "        vertical-align: top;\n",
       "    }\n",
       "\n",
       "    .dataframe thead th {\n",
       "        text-align: right;\n",
       "    }\n",
       "</style>\n",
       "<table border=\"1\" class=\"dataframe\">\n",
       "  <thead>\n",
       "    <tr style=\"text-align: right;\">\n",
       "      <th></th>\n",
       "      <th>Gender_Male</th>\n",
       "      <th>Age</th>\n",
       "      <th>Alamine_Aminotransferase</th>\n",
       "      <th>Albumin</th>\n",
       "      <th>Albumin_and_Globulin_Ratio</th>\n",
       "      <th>Alkaline_Phosphotase</th>\n",
       "      <th>Aspartate_Aminotransferase</th>\n",
       "      <th>Direct_Bilirubin</th>\n",
       "      <th>Total_Bilirubin</th>\n",
       "      <th>Total_Protiens</th>\n",
       "      <th>label</th>\n",
       "    </tr>\n",
       "  </thead>\n",
       "  <tbody>\n",
       "    <tr>\n",
       "      <th>0</th>\n",
       "      <td>0.0</td>\n",
       "      <td>0.709302</td>\n",
       "      <td>0.009804</td>\n",
       "      <td>0.521739</td>\n",
       "      <td>0.240</td>\n",
       "      <td>0.139797</td>\n",
       "      <td>0.008511</td>\n",
       "      <td>0.000000</td>\n",
       "      <td>0.015625</td>\n",
       "      <td>0.533333</td>\n",
       "      <td>1</td>\n",
       "    </tr>\n",
       "    <tr>\n",
       "      <th>1</th>\n",
       "      <td>1.0</td>\n",
       "      <td>0.674419</td>\n",
       "      <td>0.088235</td>\n",
       "      <td>0.500000</td>\n",
       "      <td>0.176</td>\n",
       "      <td>0.717024</td>\n",
       "      <td>0.095745</td>\n",
       "      <td>0.574468</td>\n",
       "      <td>0.546875</td>\n",
       "      <td>0.650000</td>\n",
       "      <td>1</td>\n",
       "    </tr>\n",
       "    <tr>\n",
       "      <th>2</th>\n",
       "      <td>1.0</td>\n",
       "      <td>0.674419</td>\n",
       "      <td>0.081699</td>\n",
       "      <td>0.521739</td>\n",
       "      <td>0.236</td>\n",
       "      <td>0.481398</td>\n",
       "      <td>0.061702</td>\n",
       "      <td>0.425532</td>\n",
       "      <td>0.359375</td>\n",
       "      <td>0.566667</td>\n",
       "      <td>1</td>\n",
       "    </tr>\n",
       "    <tr>\n",
       "      <th>3</th>\n",
       "      <td>1.0</td>\n",
       "      <td>0.627907</td>\n",
       "      <td>0.006536</td>\n",
       "      <td>0.543478</td>\n",
       "      <td>0.280</td>\n",
       "      <td>0.134160</td>\n",
       "      <td>0.010638</td>\n",
       "      <td>0.031915</td>\n",
       "      <td>0.031250</td>\n",
       "      <td>0.533333</td>\n",
       "      <td>1</td>\n",
       "    </tr>\n",
       "    <tr>\n",
       "      <th>4</th>\n",
       "      <td>1.0</td>\n",
       "      <td>0.790698</td>\n",
       "      <td>0.027778</td>\n",
       "      <td>0.326087</td>\n",
       "      <td>0.040</td>\n",
       "      <td>0.148816</td>\n",
       "      <td>0.052128</td>\n",
       "      <td>0.202128</td>\n",
       "      <td>0.182292</td>\n",
       "      <td>0.616667</td>\n",
       "      <td>1</td>\n",
       "    </tr>\n",
       "  </tbody>\n",
       "</table>\n",
       "</div>"
      ],
      "text/plain": [
       "   Gender_Male       Age  Alamine_Aminotransferase   Albumin  Albumin_and_Globulin_Ratio  Alkaline_Phosphotase  Aspartate_Aminotransferase  Direct_Bilirubin  Total_Bilirubin  Total_Protiens  label\n",
       "0          0.0  0.709302                  0.009804  0.521739                       0.240              0.139797                    0.008511          0.000000         0.015625        0.533333      1\n",
       "1          1.0  0.674419                  0.088235  0.500000                       0.176              0.717024                    0.095745          0.574468         0.546875        0.650000      1\n",
       "2          1.0  0.674419                  0.081699  0.521739                       0.236              0.481398                    0.061702          0.425532         0.359375        0.566667      1\n",
       "3          1.0  0.627907                  0.006536  0.543478                       0.280              0.134160                    0.010638          0.031915         0.031250        0.533333      1\n",
       "4          1.0  0.790698                  0.027778  0.326087                       0.040              0.148816                    0.052128          0.202128         0.182292        0.616667      1"
      ]
     },
     "execution_count": 58,
     "metadata": {},
     "output_type": "execute_result"
    }
   ],
   "source": [
    "from sklearn.calibration import LabelEncoder\n",
    "from sklearn.compose import ColumnTransformer, make_column_selector, make_column_transformer\n",
    "from sklearn.naive_bayes import LabelBinarizer\n",
    "from sklearn.pipeline import make_pipeline, make_union\n",
    "from sklearn.preprocessing import MinMaxScaler, Normalizer, OneHotEncoder, RobustScaler, StandardScaler\n",
    "\n",
    "df.dropna(inplace=True)\n",
    "\n",
    "df_x = df[df.columns.difference(['label'])]\n",
    "df_y = df['label']\n",
    "\n",
    "num_col_selector = make_column_selector(dtype_include=np.number)\n",
    "num_cols = num_col_selector(df_x)\n",
    "non_num_cols = df_x.columns.difference(num_cols).tolist()\n",
    "\n",
    "# cat_cols_f = make_column_selector(dtype_include=['category', 'object', 'string', 'bool'])\n",
    "# cat_cols = cat_cols_f(df_x)\n",
    "\n",
    "\n",
    "# ct = make_column_transformer(\n",
    "#     (OneHotEncoder(drop=\"if_binary\"), non_num_cols),\n",
    "#     remainder=\"drop\",\n",
    "#     verbose_feature_names_out=False\n",
    "# )\n",
    "\n",
    "\n",
    "ohe_tr = OneHotEncoder(drop=\"if_binary\", sparse_output=False).fit_transform(df_x[non_num_cols].to_numpy())\n",
    "ohe_tr = Normalizer().fit_transform(ohe_tr)\n",
    "\n",
    "scaler = MinMaxScaler()\n",
    "num_col_tr = scaler.fit_transform(df_x[num_cols])\n",
    "\n",
    "le = LabelEncoder()\n",
    "le_tr = le.fit_transform(df['label'])\n",
    "\n",
    "df_x_transformed = pd.DataFrame(np.concatenate([ohe_tr, num_col_tr], axis=1), columns=['Gender_Male', *num_cols])\n",
    "# df_y = pd.DataFrame(le_tr, columns=['label'])\n",
    "\n",
    "df = df_x_transformed.join(df['label'], how='inner')\n",
    "\n",
    "df.head()\n",
    "\n",
    "# ohe.fit_transform(df[df['Gender']])\n",
    "# df[['Gender']]"
   ]
  },
  {
   "cell_type": "markdown",
   "metadata": {},
   "source": [
    "### SVM"
   ]
  },
  {
   "cell_type": "markdown",
   "metadata": {},
   "source": [
    "#### spliting data"
   ]
  },
  {
   "cell_type": "code",
   "execution_count": 59,
   "metadata": {},
   "outputs": [
    {
     "name": "stdout",
     "output_type": "stream",
     "text": [
      "Training set shape: (392, 10) (392,)\n",
      "Test set shape: (98, 10) (98,)\n"
     ]
    }
   ],
   "source": [
    "from sklearn.model_selection import train_test_split\n",
    "from sklearn.utils import shuffle\n",
    "\n",
    "df = shuffle(df, random_state=5217)\n",
    "\n",
    "X, y = df.drop('label', axis=1), df['label']\n",
    "# Split the data into test and training sets\n",
    "X_train, X_test, y_train, y_test = train_test_split(X, y, test_size=0.2, stratify=y)\n",
    "\n",
    "# Print the shapes of the training and test sets\n",
    "print(\"Training set shape:\", X_train.shape, y_train.shape)\n",
    "print(\"Test set shape:\", X_test.shape, y_test.shape)"
   ]
  },
  {
   "cell_type": "markdown",
   "metadata": {},
   "source": [
    "### SVM using Scikit-Learn:\n",
    "First of all train an svm model with default parameters and report its."
   ]
  },
  {
   "cell_type": "code",
   "execution_count": 60,
   "metadata": {},
   "outputs": [
    {
     "name": "stdout",
     "output_type": "stream",
     "text": [
      "Accuracy: 0.6836734693877551\n",
      "Precision: 0.6836734693877551\n",
      "Recall: 1.0\n",
      "F1 score: 0.8121212121212121\n"
     ]
    }
   ],
   "source": [
    "from sklearn.metrics import f1_score, precision_score, recall_score, accuracy_score\n",
    "import pandas as pd\n",
    "from sklearn.svm import SVC\n",
    "\n",
    "# Fit the SVC model on the training set\n",
    "clf = SVC()\n",
    "clf.fit(X_train, y_train)\n",
    "# Make predictions on the test set\n",
    "y_pred = clf.predict(X_test)\n",
    "\n",
    "# Calculate evaluation metrics\n",
    "accuracy = accuracy_score(y_test, y_pred)\n",
    "precision = precision_score(y_test, y_pred)\n",
    "recall = recall_score(y_test, y_pred)\n",
    "f1 = f1_score(y_test, y_pred)\n",
    "\n",
    "# Print evaluation metrics\n",
    "print(\"Accuracy:\", accuracy)\n",
    "print(\"Precision:\", precision)\n",
    "print(\"Recall:\", recall)\n",
    "print(\"F1 score:\", f1)"
   ]
  },
  {
   "cell_type": "markdown",
   "metadata": {},
   "source": [
    "#### Grid Search\n",
    "Use Grid search and validation set to find the best parameters for your SVM model."
   ]
  },
  {
   "cell_type": "code",
   "execution_count": 61,
   "metadata": {},
   "outputs": [
    {
     "name": "stdout",
     "output_type": "stream",
     "text": [
      "Fitting 5 folds for each of 128 candidates, totalling 640 fits\n",
      "Best hyperparameters:  {'C': 10, 'class_weight': 'balanced', 'gamma': 'scale', 'kernel': 'rbf', 'probability': False}\n",
      "Best Estimator Score:  0.5406210409055292\n"
     ]
    }
   ],
   "source": [
    "import pandas as pd\n",
    "from sklearn.model_selection import train_test_split, GridSearchCV\n",
    "from sklearn.svm import SVC\n",
    "from sklearn.metrics import accuracy_score, precision_score, recall_score, f1_score\n",
    "\n",
    "# Define the parameter grid for the SVM model\n",
    "param_grid = {\n",
    "    'C': [0.1, 0.5, 2.5, 10], \n",
    "    'kernel': ['linear', 'rbf', 'sigmoid', 'poly'],\n",
    "    'gamma': ['scale', 'auto'],\n",
    "    'probability': [False, True],\n",
    "    'class_weight': [None, 'balanced']\n",
    "}\n",
    "\n",
    "precision_score\n",
    "# Perform a grid search with cross-validation to find the best hyperparameters\n",
    "gsclf = GridSearchCV(SVC(), param_grid, cv=5, n_jobs=-1, verbose=1, scoring='balanced_accuracy', refit=True)\n",
    "gsclf.fit(X, y)\n",
    "\n",
    "\n",
    "# Print evaluation metrics and best hyperparameters\n",
    "print(\"Best hyperparameters: \", gsclf.best_params_)\n",
    "print(\"Best Estimator Score: \", gsclf.best_score_)"
   ]
  },
  {
   "cell_type": "markdown",
   "metadata": {},
   "source": [
    "Train an svm model on the entire training data using the parameters you found in the previous step."
   ]
  },
  {
   "cell_type": "code",
   "execution_count": 62,
   "metadata": {},
   "outputs": [
    {
     "name": "stdout",
     "output_type": "stream",
     "text": [
      "Accuracy: 0.5918367346938775\n",
      "Precision: 0.7547169811320755\n",
      "Recall: 0.5970149253731343\n",
      "F1 score: 0.6666666666666666\n"
     ]
    }
   ],
   "source": [
    "from sklearn.metrics import accuracy_score, precision_score, recall_score, f1_score\n",
    "\n",
    "clf_best = SVC(**gsclf.best_params_)\n",
    "\n",
    "clf_best.fit(X_train, y_train)\n",
    "\n",
    "# Make predictions on the test set\n",
    "y_pred = clf_best.predict(X_test)\n",
    "\n",
    "# Calculate evaluation metrics\n",
    "accuracy = accuracy_score(y_test, y_pred)\n",
    "precision = precision_score(y_test, y_pred)\n",
    "recall = recall_score(y_test, y_pred)\n",
    "f1 = f1_score(y_test, y_pred)\n",
    "\n",
    "# Print evaluation metrics\n",
    "print(\"Accuracy:\", accuracy)\n",
    "print(\"Precision:\", precision)\n",
    "print(\"Recall:\", recall)\n",
    "print(\"F1 score:\", f1)"
   ]
  },
  {
   "cell_type": "markdown",
   "metadata": {},
   "source": [
    "### Confusion Matrix\n",
    "Plot the confusion matrix and report the model accuracy on test set.\n",
    "What does each entry of the confusion matrix mean?"
   ]
  },
  {
   "cell_type": "code",
   "execution_count": 63,
   "metadata": {},
   "outputs": [
    {
     "data": {
      "image/png": "[encoded data removed]",
      "text/plain": [
       "<Figure size 432x288 with 2 Axes>"
      ]
     },
     "metadata": {
      "needs_background": "light"
     },
     "output_type": "display_data"
    }
   ],
   "source": [
    "from sklearn.metrics import ConfusionMatrixDisplay, confusion_matrix\n",
    "\n",
    "# Plot the confusion matrix\n",
    "cm = confusion_matrix(y_test, y_pred)\n",
    "# create display object\n",
    "disp = ConfusionMatrixDisplay(confusion_matrix=cm)\n",
    "\n",
    "# plot confusion matrix\n",
    "disp.plot(cmap='Blues')\n",
    "\n",
    "# add title and axis labels\n",
    "plt.title('Confusion Matrix')\n",
    "plt.xlabel('Predicted Label')\n",
    "plt.ylabel('True Label')\n",
    "plt.show()"
   ]
  },
  {
   "cell_type": "markdown",
   "metadata": {},
   "source": [
    "Add some outliers to the dataset, train an SVM and logistic regression model, and compare the results."
   ]
  },
  {
   "cell_type": "code",
   "execution_count": 64,
   "metadata": {
    "tags": []
   },
   "outputs": [
    {
     "name": "stdout",
     "output_type": "stream",
     "text": [
      "SVM Model:\n",
      "Accuracy: 0.7022900763358778\n",
      "Precision: 0.7010309278350515\n",
      "Recall: 0.8717948717948718\n",
      "F1 score: 0.7771428571428571\n",
      "\n",
      "Logistic Regression Model:\n",
      "Accuracy: 0.5954198473282443\n",
      "Precision: 0.5954198473282443\n",
      "Recall: 1.0\n",
      "F1 score: 0.7464114832535885\n"
     ]
    }
   ],
   "source": [
    "# from random import random\n",
    "from random import random\n",
    "import pandas as pd\n",
    "from sklearn.impute import SimpleImputer\n",
    "from sklearn.model_selection import train_test_split\n",
    "from sklearn.svm import SVC\n",
    "from sklearn.linear_model import LogisticRegression\n",
    "from sklearn.metrics import accuracy_score, precision_score, recall_score, f1_score\n",
    "from sklearn.preprocessing import Normalizer, SplineTransformer\n",
    "\n",
    "curr_df = df.copy()\n",
    "\n",
    "NUM_OF_OUTLIER_PER_COL = df.shape[0] // 3\n",
    "\n",
    "label_0_proportion = (df['label'].mean() - 1)\n",
    "\n",
    "for column in X.columns[X.columns != 'Gender']:\n",
    "    # Calculate the mean and standard deviation for the column\n",
    "    col_mean = X[column].mean()\n",
    "    col_std = X[column].std()\n",
    "    \n",
    "    sd_dist = [np.random.uniform(3, 5), np.random.uniform(-5, -3)]\n",
    "    \n",
    "    outlier_val_gen = lambda: col_mean + col_std * np.random.choice(sd_dist)\n",
    "    outlier_vals_for_col = [outlier_val_gen() for _ in range(NUM_OF_OUTLIER_PER_COL)]\n",
    "    \n",
    "    outlier_df = pd.DataFrame(outlier_vals_for_col, columns=[column])\n",
    "    adj_label_0_proportion = max(1.0, label_0_proportion * (1 + random() * 0.2))\n",
    "    outlier_label = pd.Series([np.random.choice([1, 2], p=[label_0_proportion, 1-label_0_proportion]) for _ in range(NUM_OF_OUTLIER_PER_COL)], name='label', index=outlier_df.index)\n",
    "\n",
    "    outlier_df_x = MinMaxScaler().fit_transform(outlier_df, outlier_label)\n",
    "    outlier_df = outlier_df_x.join(outlier_label)\n",
    "    \n",
    "    curr_df = pd.concat([df, outlier_df], ignore_index=True)\n",
    "\n",
    "df = curr_df\n",
    "imputer = SimpleImputer(strategy='mean')\n",
    "df = pd.DataFrame(imputer.fit_transform(df), columns=df.columns)\n",
    "\n",
    "# Split the data into test and training sets\n",
    "X_train, X_test, y_train, y_test = train_test_split(df.drop('label', axis=1), df['label'], test_size=0.2, random_state=5217, shuffle=True, stratify=df['label'])\n",
    "\n",
    "# Train an SVM model with default parameters\n",
    "svm_clf = SVC()\n",
    "svm_clf.fit(X_train, y_train)\n",
    "\n",
    "# Train a logistic regression model with default parameters\n",
    "lr_clf = LogisticRegression(max_iter=500)\n",
    "lr_clf.fit(X_train, y_train)\n",
    "\n",
    "# Make predictions on the test set with both models\n",
    "svm_y_pred = svm_clf.predict(X_test)\n",
    "lr_y_pred = lr_clf.predict(X_test)\n",
    "\n",
    "# Calculate evaluation metrics for both models\n",
    "svm_accuracy = accuracy_score(y_test, svm_y_pred)\n",
    "svm_precision = precision_score(y_test, svm_y_pred)\n",
    "svm_recall = recall_score(y_test, svm_y_pred)\n",
    "svm_f1 = f1_score(y_test, svm_y_pred)\n",
    "\n",
    "lr_accuracy = accuracy_score(y_test, lr_y_pred)\n",
    "lr_precision = precision_score(y_test, lr_y_pred)\n",
    "lr_recall = recall_score(y_test, lr_y_pred)\n",
    "lr_f1 = f1_score(y_test, lr_y_pred)\n",
    "\n",
    "# Print evaluation metrics for both models\n",
    "print(\"SVM Model:\")\n",
    "print(\"Accuracy:\", svm_accuracy)\n",
    "print(\"Precision:\", svm_precision)\n",
    "print(\"Recall:\", svm_recall)\n",
    "print(\"F1 score:\", svm_f1)\n",
    "print(\"\\nLogistic Regression Model:\")\n",
    "print(\"Accuracy:\", lr_accuracy)\n",
    "print(\"Precision:\", lr_precision)\n",
    "print(\"Recall:\", lr_recall)\n",
    "print(\"F1 score:\", lr_f1)"
   ]
  }
 ],
 "metadata": {
  "kernelspec": {
   "display_name": "Python 3 (ipykernel)",
   "language": "python",
   "name": "python3"
  },
  "language_info": {
   "codemirror_mode": {
    "name": "ipython",
    "version": 3
   },
   "file_extension": ".py",
   "mimetype": "text/x-python",
   "name": "python",
   "nbconvert_exporter": "python",
   "pygments_lexer": "ipython3",
   "version": "3.9.7"
  }
 },
 "nbformat": 4,
 "nbformat_minor": 4
}
