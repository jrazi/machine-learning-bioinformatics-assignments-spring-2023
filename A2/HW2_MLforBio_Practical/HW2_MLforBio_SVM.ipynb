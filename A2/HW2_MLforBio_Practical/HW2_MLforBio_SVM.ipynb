{
 "cells": [
  {
   "cell_type": "markdown",
   "metadata": {},
   "source": [
    "<img src='http://www-scf.usc.edu/~ghasemig/images/sharif.png' alt=\"SUT logo\" width=200 height=200 align=left class=\"saturate\" >\n",
    "\n",
    "<br>\n",
    "<font face=\"Times New Roman\">\n",
    "<div dir=ltr align=center>\n",
    "<font color=0F5298 size=7>\n",
    "    ML for Bioinformatics <br>\n",
    "<font color=2565AE size=5>\n",
    "    Computer Engineering Department <br>\n",
    "<font color=3C99D size=5>\n",
    "    Homework 2: Practical - Support Vector Machines <br>\n",
    "<font color=696880 size=4>\n",
    "    Ali Shafiei (shafieiali42@gmail.com) <br>\n",
    "    Ali Salmani (alisalmani200149@gmail.com)\n",
    "\n",
    "____\n"
   ]
  },
  {
   "attachments": {},
   "cell_type": "markdown",
   "metadata": {},
   "source": [
    "### Full Name : Javad Razi\n",
    "### Student Number : 401204354\n"
   ]
  },
  {
   "cell_type": "markdown",
   "metadata": {},
   "source": [
    "# Support Vector Machines (SVM)"
   ]
  },
  {
   "cell_type": "markdown",
   "metadata": {},
   "source": [
    "In this assignment, we are going to implement Support Vector Machines (SVM) algorithm that determines which patient is in danger and which is not."
   ]
  },
  {
   "cell_type": "code",
   "execution_count": 258,
   "metadata": {},
   "outputs": [],
   "source": [
    "import numpy as np\n",
    "import pandas as pd\n",
    "import matplotlib.pyplot as plt\n",
    "from sklearn.svm import SVC"
   ]
  },
  {
   "cell_type": "code",
   "execution_count": 259,
   "metadata": {
    "tags": []
   },
   "outputs": [],
   "source": [
    "from sklearn import set_config\n",
    "set_config(transform_output='pandas')\n",
    "pd.set_option('display.max_columns', None)\n",
    "pd.set_option('display.expand_frame_repr', False)\n",
    "pd.set_option('max_colwidth', None)\n",
    "\n",
    "df = pd.read_csv(\"Liver_Disease.csv\") "
   ]
  },
  {
   "cell_type": "markdown",
   "metadata": {},
   "source": [
    "### Pre-Processing"
   ]
  },
  {
   "cell_type": "markdown",
   "metadata": {},
   "source": [
    "#### Exploratory Data Analysis (EDA):\n",
    "In statistics, exploratory data analysis is an approach to analyze datasets to summarize their main characteristics, often using statistical graphics and other data visualization methods.\n",
    "\n",
    "This is a general approach that should be applied when you encounter a dataset."
   ]
  },
  {
   "cell_type": "code",
   "execution_count": 260,
   "metadata": {},
   "outputs": [
    {
     "name": "stdout",
     "output_type": "stream",
     "text": [
      "<class 'pandas.core.frame.DataFrame'>\n",
      "RangeIndex: 583 entries, 0 to 582\n",
      "Data columns (total 11 columns):\n",
      " #   Column                      Non-Null Count  Dtype  \n",
      "---  ------                      --------------  -----  \n",
      " 0   Age                         583 non-null    int64  \n",
      " 1   Gender                      583 non-null    object \n",
      " 2   Total_Bilirubin             583 non-null    float64\n",
      " 3   Direct_Bilirubin            583 non-null    float64\n",
      " 4   Alkaline_Phosphotase        583 non-null    int64  \n",
      " 5   Alamine_Aminotransferase    583 non-null    int64  \n",
      " 6   Aspartate_Aminotransferase  583 non-null    int64  \n",
      " 7   Total_Protiens              583 non-null    float64\n",
      " 8   Albumin                     583 non-null    float64\n",
      " 9   Albumin_and_Globulin_Ratio  579 non-null    float64\n",
      " 10  label                       583 non-null    int64  \n",
      "dtypes: float64(5), int64(5), object(1)\n",
      "memory usage: 50.2+ KB\n"
     ]
    }
   ],
   "source": [
    "import pandas as pd\n",
    "\n",
    "# Load the dataset into a pandas dataframe\n",
    "df = pd.read_csv(\"Liver_Disease.csv\")\n",
    "\n",
    "# Some general info about the dataset. \n",
    "# As you can see, There are 4 rows with na value for Albumin_and_Globulin_Ratio  \n",
    "df.info(show_counts=True)"
   ]
  },
  {
   "cell_type": "code",
   "execution_count": 261,
   "metadata": {},
   "outputs": [
    {
     "data": {
      "text/html": [
       "<div>\n",
       "<style scoped>\n",
       "    .dataframe tbody tr th:only-of-type {\n",
       "        vertical-align: middle;\n",
       "    }\n",
       "\n",
       "    .dataframe tbody tr th {\n",
       "        vertical-align: top;\n",
       "    }\n",
       "\n",
       "    .dataframe thead th {\n",
       "        text-align: right;\n",
       "    }\n",
       "</style>\n",
       "<table border=\"1\" class=\"dataframe\">\n",
       "  <thead>\n",
       "    <tr style=\"text-align: right;\">\n",
       "      <th></th>\n",
       "      <th>Age</th>\n",
       "      <th>Total_Bilirubin</th>\n",
       "      <th>Direct_Bilirubin</th>\n",
       "      <th>Alkaline_Phosphotase</th>\n",
       "      <th>Alamine_Aminotransferase</th>\n",
       "      <th>Aspartate_Aminotransferase</th>\n",
       "      <th>Total_Protiens</th>\n",
       "      <th>Albumin</th>\n",
       "      <th>Albumin_and_Globulin_Ratio</th>\n",
       "      <th>label</th>\n",
       "    </tr>\n",
       "  </thead>\n",
       "  <tbody>\n",
       "    <tr>\n",
       "      <th>count</th>\n",
       "      <td>583.000000</td>\n",
       "      <td>583.000000</td>\n",
       "      <td>583.000000</td>\n",
       "      <td>583.000000</td>\n",
       "      <td>583.000000</td>\n",
       "      <td>583.000000</td>\n",
       "      <td>583.000000</td>\n",
       "      <td>583.000000</td>\n",
       "      <td>579.000000</td>\n",
       "      <td>583.000000</td>\n",
       "    </tr>\n",
       "    <tr>\n",
       "      <th>mean</th>\n",
       "      <td>44.746141</td>\n",
       "      <td>3.298799</td>\n",
       "      <td>1.486106</td>\n",
       "      <td>290.576329</td>\n",
       "      <td>80.713551</td>\n",
       "      <td>109.910806</td>\n",
       "      <td>6.483190</td>\n",
       "      <td>3.141852</td>\n",
       "      <td>0.947064</td>\n",
       "      <td>1.286449</td>\n",
       "    </tr>\n",
       "    <tr>\n",
       "      <th>std</th>\n",
       "      <td>16.189833</td>\n",
       "      <td>6.209522</td>\n",
       "      <td>2.808498</td>\n",
       "      <td>242.937989</td>\n",
       "      <td>182.620356</td>\n",
       "      <td>288.918529</td>\n",
       "      <td>1.085451</td>\n",
       "      <td>0.795519</td>\n",
       "      <td>0.319592</td>\n",
       "      <td>0.452490</td>\n",
       "    </tr>\n",
       "    <tr>\n",
       "      <th>min</th>\n",
       "      <td>4.000000</td>\n",
       "      <td>0.400000</td>\n",
       "      <td>0.100000</td>\n",
       "      <td>63.000000</td>\n",
       "      <td>10.000000</td>\n",
       "      <td>10.000000</td>\n",
       "      <td>2.700000</td>\n",
       "      <td>0.900000</td>\n",
       "      <td>0.300000</td>\n",
       "      <td>1.000000</td>\n",
       "    </tr>\n",
       "    <tr>\n",
       "      <th>25%</th>\n",
       "      <td>33.000000</td>\n",
       "      <td>0.800000</td>\n",
       "      <td>0.200000</td>\n",
       "      <td>175.500000</td>\n",
       "      <td>23.000000</td>\n",
       "      <td>25.000000</td>\n",
       "      <td>5.800000</td>\n",
       "      <td>2.600000</td>\n",
       "      <td>0.700000</td>\n",
       "      <td>1.000000</td>\n",
       "    </tr>\n",
       "    <tr>\n",
       "      <th>50%</th>\n",
       "      <td>45.000000</td>\n",
       "      <td>1.000000</td>\n",
       "      <td>0.300000</td>\n",
       "      <td>208.000000</td>\n",
       "      <td>35.000000</td>\n",
       "      <td>42.000000</td>\n",
       "      <td>6.600000</td>\n",
       "      <td>3.100000</td>\n",
       "      <td>0.930000</td>\n",
       "      <td>1.000000</td>\n",
       "    </tr>\n",
       "    <tr>\n",
       "      <th>75%</th>\n",
       "      <td>58.000000</td>\n",
       "      <td>2.600000</td>\n",
       "      <td>1.300000</td>\n",
       "      <td>298.000000</td>\n",
       "      <td>60.500000</td>\n",
       "      <td>87.000000</td>\n",
       "      <td>7.200000</td>\n",
       "      <td>3.800000</td>\n",
       "      <td>1.100000</td>\n",
       "      <td>2.000000</td>\n",
       "    </tr>\n",
       "    <tr>\n",
       "      <th>max</th>\n",
       "      <td>90.000000</td>\n",
       "      <td>75.000000</td>\n",
       "      <td>19.700000</td>\n",
       "      <td>2110.000000</td>\n",
       "      <td>2000.000000</td>\n",
       "      <td>4929.000000</td>\n",
       "      <td>9.600000</td>\n",
       "      <td>5.500000</td>\n",
       "      <td>2.800000</td>\n",
       "      <td>2.000000</td>\n",
       "    </tr>\n",
       "  </tbody>\n",
       "</table>\n",
       "</div>"
      ],
      "text/plain": [
       "              Age  Total_Bilirubin  Direct_Bilirubin  Alkaline_Phosphotase  Alamine_Aminotransferase  Aspartate_Aminotransferase  Total_Protiens     Albumin  Albumin_and_Globulin_Ratio       label\n",
       "count  583.000000       583.000000        583.000000            583.000000                583.000000                  583.000000      583.000000  583.000000                  579.000000  583.000000\n",
       "mean    44.746141         3.298799          1.486106            290.576329                 80.713551                  109.910806        6.483190    3.141852                    0.947064    1.286449\n",
       "std     16.189833         6.209522          2.808498            242.937989                182.620356                  288.918529        1.085451    0.795519                    0.319592    0.452490\n",
       "min      4.000000         0.400000          0.100000             63.000000                 10.000000                   10.000000        2.700000    0.900000                    0.300000    1.000000\n",
       "25%     33.000000         0.800000          0.200000            175.500000                 23.000000                   25.000000        5.800000    2.600000                    0.700000    1.000000\n",
       "50%     45.000000         1.000000          0.300000            208.000000                 35.000000                   42.000000        6.600000    3.100000                    0.930000    1.000000\n",
       "75%     58.000000         2.600000          1.300000            298.000000                 60.500000                   87.000000        7.200000    3.800000                    1.100000    2.000000\n",
       "max     90.000000        75.000000         19.700000           2110.000000               2000.000000                 4929.000000        9.600000    5.500000                    2.800000    2.000000"
      ]
     },
     "execution_count": 261,
     "metadata": {},
     "output_type": "execute_result"
    }
   ],
   "source": [
    "df.describe()"
   ]
  },
  {
   "cell_type": "code",
   "execution_count": 262,
   "metadata": {},
   "outputs": [
    {
     "name": "stdout",
     "output_type": "stream",
     "text": [
      "Number of patients with liver disease: 416\n",
      "Number of patients without liver disease: 167\n"
     ]
    }
   ],
   "source": [
    "import matplotlib.pyplot as plt\n",
    "\n",
    "# Check whether the dataset is balanced or not\n",
    "patients_with_disease_count = df[df['label'] == 1].shape[0]\n",
    "normal_patients_count = df.shape[0] - patients_with_disease_count\n",
    "print(\"Number of patients with liver disease:\", patients_with_disease_count)\n",
    "print(\"Number of patients without liver disease:\", normal_patients_count)\n"
   ]
  },
  {
   "cell_type": "code",
   "execution_count": 263,
   "metadata": {},
   "outputs": [
    {
     "data": {
      "image/png": "[encoded data removed]",
      "text/plain": [
       "<Figure size 1200x800 with 6 Axes>"
      ]
     },
     "metadata": {},
     "output_type": "display_data"
    }
   ],
   "source": [
    "# Plot the age distribution and gender distribution for both groups of patients\n",
    "fig, axes = plt.subplots(nrows=3, ncols=2, figsize=(12, 8))\n",
    "\n",
    "\n",
    "df[df['label'] == 2]['Gender'].value_counts().plot.bar(ax=axes[0,0], edgecolor='black', color=['red', 'blue'])\n",
    "df[df['label'] == 2]['Age'].plot.hist(ax=axes[1,0], bins=20, edgecolor='black', color='orange')\n",
    "df[df['label'] == 2]['Age'].plot.box(ax=axes[2,0], colormap='hsv', patch_artist=True)\n",
    "\n",
    "df[df['label'] == 1]['Gender'].value_counts().plot.bar(ax=axes[0,1], edgecolor='black', color=['red', 'blue'])\n",
    "df[df['label'] == 1]['Age'].plot.hist(ax=axes[1,1], bins=20, edgecolor='black', color='green')\n",
    "df[df['label'] == 1]['Age'].plot.box(ax=axes[2,1], colormap='hsv', patch_artist=True)\n",
    "\n",
    "axes[0,0].set_title(\"Gender distribution of patients without liver disease\")\n",
    "axes[1,0].set_title(\"Age distribution of patients without liver disease\")\n",
    "axes[2,0].set_title(\"Age Boxplot of patients without liver disease\")\n",
    "\n",
    "\n",
    "\n",
    "axes[0,1].set_title(\"Gender distribution of patients with liver disease\")\n",
    "axes[1,1].set_title(\"Age distribution of patients with liver disease\")\n",
    "axes[2,1].set_title(\"Age Boxplot of patients with liver disease\")\n",
    "\n",
    "plt.tight_layout()\n",
    "plt.show()"
   ]
  },
  {
   "cell_type": "markdown",
   "metadata": {},
   "source": [
    "##### Question: What do you conclude from the plots?"
   ]
  },
  {
   "attachments": {},
   "cell_type": "markdown",
   "metadata": {},
   "source": [
    "The age distribution for patients with liver disease is right-skewed, with a peak around 50-60 years old. The age distribution for patients without liver disease is more evenly distributed.\n",
    "The gender distribution for both groups of patients is fairly balanced. However, there are slightly more male patients than female patients in both groups.\n",
    "The gender distribution does not seem to be significantly different between patients with and without liver disease.\n",
    "The age distribution for patients with liver disease seems to be slightly higher than the age distribution for patients without liver disease. However, this difference is not very pronounced.\n",
    "Overall, the plots suggest that age may be a more important factor than gender in predicting liver disease. However, this is just a intuitive observation of results and statistical approaches are required to have a more definitive conclusion."
   ]
  },
  {
   "cell_type": "markdown",
   "metadata": {},
   "source": [
    "#### Outlier Detection & Removal\n",
    "Check whether we have outliers in the data. If there are, delete them."
   ]
  },
  {
   "cell_type": "code",
   "execution_count": 264,
   "metadata": {},
   "outputs": [
    {
     "name": "stdout",
     "output_type": "stream",
     "text": [
      "Previous dataset shape: (583, 11)\n",
      "New dataset shape: (538, 11)\n"
     ]
    }
   ],
   "source": [
    "import numpy as np\n",
    "from scipy.stats import zscore\n",
    "from sklearn.compose import make_column_selector\n",
    "\n",
    "# Identify outliers using z-score\n",
    "numeric_rows = make_column_selector(dtype_include=np.number)(df)\n",
    "z_scores = np.abs(zscore(df[numeric_rows]))\n",
    "outliers = (z_scores > 3).any(axis=1)\n",
    "\n",
    "# Remove outliers from the dataset\n",
    "old_shape = df.shape\n",
    "df = df[~outliers]\n",
    "\n",
    "# Print the new shape of the dataset\n",
    "print(\"Previous dataset shape:\", old_shape)\n",
    "print(\"New dataset shape:\", df.shape)"
   ]
  },
  {
   "cell_type": "markdown",
   "metadata": {},
   "source": [
    "#### Feature Engineering:\n",
    "Sometimes the collected data are raw; they are either incompatible with your model or hinders its performance. That’s when feature engineering comes to rescue. It encompasses preprocessing techniques to compile a dataset by extracting features from raw data.\n",
    "also feel free to do more feature engineering techniques if needed."
   ]
  },
  {
   "cell_type": "code",
   "execution_count": 265,
   "metadata": {},
   "outputs": [
    {
     "data": {
      "text/html": [
       "<div>\n",
       "<style scoped>\n",
       "    .dataframe tbody tr th:only-of-type {\n",
       "        vertical-align: middle;\n",
       "    }\n",
       "\n",
       "    .dataframe tbody tr th {\n",
       "        vertical-align: top;\n",
       "    }\n",
       "\n",
       "    .dataframe thead th {\n",
       "        text-align: right;\n",
       "    }\n",
       "</style>\n",
       "<table border=\"1\" class=\"dataframe\">\n",
       "  <thead>\n",
       "    <tr style=\"text-align: right;\">\n",
       "      <th></th>\n",
       "      <th>Gender_Male</th>\n",
       "      <th>Age</th>\n",
       "      <th>Alamine_Aminotransferase</th>\n",
       "      <th>Albumin</th>\n",
       "      <th>Albumin_and_Globulin_Ratio</th>\n",
       "      <th>Alkaline_Phosphotase</th>\n",
       "      <th>Aspartate_Aminotransferase</th>\n",
       "      <th>Direct_Bilirubin</th>\n",
       "      <th>Total_Bilirubin</th>\n",
       "      <th>Total_Protiens</th>\n",
       "      <th>label</th>\n",
       "    </tr>\n",
       "  </thead>\n",
       "  <tbody>\n",
       "    <tr>\n",
       "      <th>0</th>\n",
       "      <td>0.0</td>\n",
       "      <td>0.709302</td>\n",
       "      <td>0.009804</td>\n",
       "      <td>0.521739</td>\n",
       "      <td>0.240</td>\n",
       "      <td>0.139797</td>\n",
       "      <td>0.008511</td>\n",
       "      <td>0.000000</td>\n",
       "      <td>0.015625</td>\n",
       "      <td>0.533333</td>\n",
       "      <td>1</td>\n",
       "    </tr>\n",
       "    <tr>\n",
       "      <th>1</th>\n",
       "      <td>1.0</td>\n",
       "      <td>0.674419</td>\n",
       "      <td>0.088235</td>\n",
       "      <td>0.500000</td>\n",
       "      <td>0.176</td>\n",
       "      <td>0.717024</td>\n",
       "      <td>0.095745</td>\n",
       "      <td>0.574468</td>\n",
       "      <td>0.546875</td>\n",
       "      <td>0.650000</td>\n",
       "      <td>1</td>\n",
       "    </tr>\n",
       "    <tr>\n",
       "      <th>2</th>\n",
       "      <td>1.0</td>\n",
       "      <td>0.674419</td>\n",
       "      <td>0.081699</td>\n",
       "      <td>0.521739</td>\n",
       "      <td>0.236</td>\n",
       "      <td>0.481398</td>\n",
       "      <td>0.061702</td>\n",
       "      <td>0.425532</td>\n",
       "      <td>0.359375</td>\n",
       "      <td>0.566667</td>\n",
       "      <td>1</td>\n",
       "    </tr>\n",
       "    <tr>\n",
       "      <th>3</th>\n",
       "      <td>1.0</td>\n",
       "      <td>0.627907</td>\n",
       "      <td>0.006536</td>\n",
       "      <td>0.543478</td>\n",
       "      <td>0.280</td>\n",
       "      <td>0.134160</td>\n",
       "      <td>0.010638</td>\n",
       "      <td>0.031915</td>\n",
       "      <td>0.031250</td>\n",
       "      <td>0.533333</td>\n",
       "      <td>1</td>\n",
       "    </tr>\n",
       "    <tr>\n",
       "      <th>4</th>\n",
       "      <td>1.0</td>\n",
       "      <td>0.790698</td>\n",
       "      <td>0.027778</td>\n",
       "      <td>0.326087</td>\n",
       "      <td>0.040</td>\n",
       "      <td>0.148816</td>\n",
       "      <td>0.052128</td>\n",
       "      <td>0.202128</td>\n",
       "      <td>0.182292</td>\n",
       "      <td>0.616667</td>\n",
       "      <td>1</td>\n",
       "    </tr>\n",
       "  </tbody>\n",
       "</table>\n",
       "</div>"
      ],
      "text/plain": [
       "   Gender_Male       Age  Alamine_Aminotransferase   Albumin  Albumin_and_Globulin_Ratio  Alkaline_Phosphotase  Aspartate_Aminotransferase  Direct_Bilirubin  Total_Bilirubin  Total_Protiens  label\n",
       "0          0.0  0.709302                  0.009804  0.521739                       0.240              0.139797                    0.008511          0.000000         0.015625        0.533333      1\n",
       "1          1.0  0.674419                  0.088235  0.500000                       0.176              0.717024                    0.095745          0.574468         0.546875        0.650000      1\n",
       "2          1.0  0.674419                  0.081699  0.521739                       0.236              0.481398                    0.061702          0.425532         0.359375        0.566667      1\n",
       "3          1.0  0.627907                  0.006536  0.543478                       0.280              0.134160                    0.010638          0.031915         0.031250        0.533333      1\n",
       "4          1.0  0.790698                  0.027778  0.326087                       0.040              0.148816                    0.052128          0.202128         0.182292        0.616667      1"
      ]
     },
     "execution_count": 265,
     "metadata": {},
     "output_type": "execute_result"
    }
   ],
   "source": [
    "from sklearn.calibration import LabelEncoder\n",
    "from sklearn.compose import ColumnTransformer, make_column_selector, make_column_transformer\n",
    "from sklearn.naive_bayes import LabelBinarizer\n",
    "from sklearn.pipeline import make_pipeline, make_union\n",
    "from sklearn.preprocessing import MinMaxScaler, Normalizer, OneHotEncoder, RobustScaler, StandardScaler\n",
    "\n",
    "df.dropna(inplace=True)\n",
    "\n",
    "df_x = df[df.columns.difference(['label'])]\n",
    "df_y = df['label']\n",
    "\n",
    "num_col_selector = make_column_selector(dtype_include=np.number)\n",
    "num_cols = num_col_selector(df_x)\n",
    "non_num_cols = df_x.columns.difference(num_cols).tolist()\n",
    "\n",
    "\n",
    "ohe_tr = OneHotEncoder(drop=\"if_binary\", sparse_output=False).fit_transform(df_x[non_num_cols].to_numpy())\n",
    "ohe_tr = Normalizer().fit_transform(ohe_tr)\n",
    "\n",
    "scaler = MinMaxScaler()\n",
    "num_col_tr = scaler.fit_transform(df_x[num_cols])\n",
    "\n",
    "\n",
    "df_x_transformed = pd.DataFrame(np.concatenate([ohe_tr, num_col_tr], axis=1), columns=['Gender_Male', *num_cols], index=df.index)\n",
    "\n",
    "df = df_x_transformed.join(df['label'])\n",
    "\n",
    "df.head()"
   ]
  },
  {
   "cell_type": "markdown",
   "metadata": {},
   "source": [
    "### SVM"
   ]
  },
  {
   "attachments": {},
   "cell_type": "markdown",
   "metadata": {},
   "source": [
    "#### Spliting data"
   ]
  },
  {
   "cell_type": "code",
   "execution_count": 266,
   "metadata": {},
   "outputs": [
    {
     "name": "stdout",
     "output_type": "stream",
     "text": [
      "Training set shape: (427, 10) (427,)\n",
      "Test set shape: (107, 10) (107,)\n"
     ]
    }
   ],
   "source": [
    "from sklearn.model_selection import train_test_split\n",
    "from sklearn.utils import shuffle\n",
    "\n",
    "df = shuffle(df, random_state=5217)\n",
    "\n",
    "X, y = df.drop('label', axis=1), df['label']\n",
    "# Split the data into test and training sets\n",
    "X_train, X_test, y_train, y_test = train_test_split(X, y, test_size=0.2, stratify=y)\n",
    "\n",
    "# Print the shapes of the training and test sets\n",
    "print(\"Training set shape:\", X_train.shape, y_train.shape)\n",
    "print(\"Test set shape:\", X_test.shape, y_test.shape)"
   ]
  },
  {
   "cell_type": "markdown",
   "metadata": {},
   "source": [
    "### SVM using Scikit-Learn:\n",
    "First of all train an svm model with default parameters and report its."
   ]
  },
  {
   "cell_type": "code",
   "execution_count": 267,
   "metadata": {},
   "outputs": [
    {
     "data": {
      "text/html": [
       "<div>\n",
       "<style scoped>\n",
       "    .dataframe tbody tr th:only-of-type {\n",
       "        vertical-align: middle;\n",
       "    }\n",
       "\n",
       "    .dataframe tbody tr th {\n",
       "        vertical-align: top;\n",
       "    }\n",
       "\n",
       "    .dataframe thead th {\n",
       "        text-align: right;\n",
       "    }\n",
       "</style>\n",
       "<table border=\"1\" class=\"dataframe\">\n",
       "  <thead>\n",
       "    <tr style=\"text-align: right;\">\n",
       "      <th></th>\n",
       "      <th>Positive</th>\n",
       "      <th>Negative</th>\n",
       "      <th>accuracy</th>\n",
       "      <th>macro avg</th>\n",
       "      <th>weighted avg</th>\n",
       "    </tr>\n",
       "  </thead>\n",
       "  <tbody>\n",
       "    <tr>\n",
       "      <th>precision</th>\n",
       "      <td>1.0</td>\n",
       "      <td>0.691589</td>\n",
       "      <td>0.691589</td>\n",
       "      <td>0.845794</td>\n",
       "      <td>0.786706</td>\n",
       "    </tr>\n",
       "    <tr>\n",
       "      <th>recall</th>\n",
       "      <td>0.0</td>\n",
       "      <td>1.000000</td>\n",
       "      <td>0.691589</td>\n",
       "      <td>0.500000</td>\n",
       "      <td>0.691589</td>\n",
       "    </tr>\n",
       "    <tr>\n",
       "      <th>f1-score</th>\n",
       "      <td>0.0</td>\n",
       "      <td>0.817680</td>\n",
       "      <td>0.691589</td>\n",
       "      <td>0.408840</td>\n",
       "      <td>0.565498</td>\n",
       "    </tr>\n",
       "    <tr>\n",
       "      <th>support</th>\n",
       "      <td>33.0</td>\n",
       "      <td>74.000000</td>\n",
       "      <td>0.691589</td>\n",
       "      <td>107.000000</td>\n",
       "      <td>107.000000</td>\n",
       "    </tr>\n",
       "  </tbody>\n",
       "</table>\n",
       "</div>"
      ],
      "text/plain": [
       "           Positive   Negative  accuracy   macro avg  weighted avg\n",
       "precision       1.0   0.691589  0.691589    0.845794      0.786706\n",
       "recall          0.0   1.000000  0.691589    0.500000      0.691589\n",
       "f1-score        0.0   0.817680  0.691589    0.408840      0.565498\n",
       "support        33.0  74.000000  0.691589  107.000000    107.000000"
      ]
     },
     "execution_count": 267,
     "metadata": {},
     "output_type": "execute_result"
    }
   ],
   "source": [
    "from sklearn.metrics import classification_report, balanced_accuracy_score, f1_score, jaccard_score, precision_score, recall_score, accuracy_score\n",
    "import pandas as pd\n",
    "from sklearn.svm import SVC\n",
    "\n",
    "# Fit the SVC model on the training set\n",
    "clf = SVC(random_state=5217)\n",
    "clf.fit(X_train, y_train)\n",
    "# Make predictions on the test set\n",
    "y_pred = clf.predict(X_test)\n",
    "\n",
    "# Calculate classification report\n",
    "cls_report = classification_report(y_test, y_pred, labels=[2, 1], target_names=['Positive', 'Negative'], output_dict=True, zero_division=True)\n",
    "pd.DataFrame(cls_report)"
   ]
  },
  {
   "cell_type": "markdown",
   "metadata": {},
   "source": [
    "#### Grid Search\n",
    "Use Grid search and validation set to find the best parameters for your SVM model."
   ]
  },
  {
   "cell_type": "code",
   "execution_count": 268,
   "metadata": {},
   "outputs": [
    {
     "name": "stdout",
     "output_type": "stream",
     "text": [
      "Fitting 5 folds for each of 576 candidates, totalling 2880 fits\n",
      "Best hyperparameters:  {'C': 10, 'class_weight': 'balanced', 'degree': 2, 'gamma': 'auto', 'kernel': 'sigmoid', 'tol': 0.0001}\n",
      "Best Estimator Score:  0.6835687960687961\n"
     ]
    }
   ],
   "source": [
    "import pandas as pd\n",
    "from sklearn.model_selection import train_test_split, GridSearchCV\n",
    "from sklearn.svm import SVC\n",
    "from sklearn.metrics import accuracy_score, precision_score, recall_score, f1_score\n",
    "\n",
    "# Define the parameter grid for the SVM model\n",
    "param_grid = {\n",
    "    'C': [0.1, 0.5, 2.5, 5, 10, 25], \n",
    "    'kernel': ['linear', 'rbf', 'sigmoid', 'poly'],\n",
    "    'degree': [2, 3],\n",
    "    'gamma': ['scale', 'auto'],\n",
    "    'class_weight': [None, 'balanced'],\n",
    "    'tol': [1e-4, 1e-3, 1e-2]\n",
    "}\n",
    "\n",
    "# Perform a grid search with cross-validation to find the best hyperparameters\n",
    "gsclf = GridSearchCV(SVC(), param_grid, cv=5, n_jobs=-1, verbose=1, scoring='balanced_accuracy', refit=True)\n",
    "gsclf.fit(X, y)\n",
    "\n",
    "\n",
    "# Print evaluation metrics and best hyperparameters\n",
    "print(\"Best hyperparameters: \", gsclf.best_params_)\n",
    "print(\"Best Estimator Score: \", gsclf.best_score_)"
   ]
  },
  {
   "cell_type": "markdown",
   "metadata": {},
   "source": [
    "Train an svm model on the entire training data using the parameters you found in the previous step."
   ]
  },
  {
   "cell_type": "code",
   "execution_count": 269,
   "metadata": {},
   "outputs": [
    {
     "data": {
      "text/html": [
       "<div>\n",
       "<style scoped>\n",
       "    .dataframe tbody tr th:only-of-type {\n",
       "        vertical-align: middle;\n",
       "    }\n",
       "\n",
       "    .dataframe tbody tr th {\n",
       "        vertical-align: top;\n",
       "    }\n",
       "\n",
       "    .dataframe thead th {\n",
       "        text-align: right;\n",
       "    }\n",
       "</style>\n",
       "<table border=\"1\" class=\"dataframe\">\n",
       "  <thead>\n",
       "    <tr style=\"text-align: right;\">\n",
       "      <th></th>\n",
       "      <th>Positive</th>\n",
       "      <th>Negative</th>\n",
       "      <th>accuracy</th>\n",
       "      <th>macro avg</th>\n",
       "      <th>weighted avg</th>\n",
       "    </tr>\n",
       "  </thead>\n",
       "  <tbody>\n",
       "    <tr>\n",
       "      <th>precision</th>\n",
       "      <td>0.430556</td>\n",
       "      <td>0.942857</td>\n",
       "      <td>0.598131</td>\n",
       "      <td>0.686706</td>\n",
       "      <td>0.784858</td>\n",
       "    </tr>\n",
       "    <tr>\n",
       "      <th>recall</th>\n",
       "      <td>0.939394</td>\n",
       "      <td>0.445946</td>\n",
       "      <td>0.598131</td>\n",
       "      <td>0.692670</td>\n",
       "      <td>0.598131</td>\n",
       "    </tr>\n",
       "    <tr>\n",
       "      <th>f1-score</th>\n",
       "      <td>0.590476</td>\n",
       "      <td>0.605505</td>\n",
       "      <td>0.598131</td>\n",
       "      <td>0.597990</td>\n",
       "      <td>0.600870</td>\n",
       "    </tr>\n",
       "    <tr>\n",
       "      <th>support</th>\n",
       "      <td>33.000000</td>\n",
       "      <td>74.000000</td>\n",
       "      <td>0.598131</td>\n",
       "      <td>107.000000</td>\n",
       "      <td>107.000000</td>\n",
       "    </tr>\n",
       "  </tbody>\n",
       "</table>\n",
       "</div>"
      ],
      "text/plain": [
       "            Positive   Negative  accuracy   macro avg  weighted avg\n",
       "precision   0.430556   0.942857  0.598131    0.686706      0.784858\n",
       "recall      0.939394   0.445946  0.598131    0.692670      0.598131\n",
       "f1-score    0.590476   0.605505  0.598131    0.597990      0.600870\n",
       "support    33.000000  74.000000  0.598131  107.000000    107.000000"
      ]
     },
     "execution_count": 269,
     "metadata": {},
     "output_type": "execute_result"
    }
   ],
   "source": [
    "from sklearn.metrics import accuracy_score, precision_score, recall_score, f1_score\n",
    "\n",
    "clf_best = SVC(**gsclf.best_params_)\n",
    "\n",
    "clf_best.fit(X_train, y_train)\n",
    "\n",
    "# Make predictions on the test set\n",
    "y_pred = clf_best.predict(X_test)\n",
    "\n",
    "# Calculate classification report\n",
    "cls_report = classification_report(y_test, y_pred, labels=[2, 1], target_names=['Positive', 'Negative'], output_dict=True)\n",
    "pd.DataFrame(cls_report)"
   ]
  },
  {
   "cell_type": "markdown",
   "metadata": {},
   "source": [
    "### Confusion Matrix\n",
    "Plot the confusion matrix and report the model accuracy on test set.\n",
    "What does each entry of the confusion matrix mean?"
   ]
  },
  {
   "cell_type": "code",
   "execution_count": 270,
   "metadata": {},
   "outputs": [
    {
     "data": {
      "image/png": "[encoded data removed]",
      "text/plain": [
       "<Figure size 640x480 with 2 Axes>"
      ]
     },
     "metadata": {},
     "output_type": "display_data"
    }
   ],
   "source": [
    "from sklearn.metrics import ConfusionMatrixDisplay, confusion_matrix\n",
    "\n",
    "# create display object\n",
    "disp = ConfusionMatrixDisplay.from_predictions(y_test, y_pred, labels = [2, 1], display_labels=['Positive', 'Negative'], cmap='Blues', normalize='true')\n",
    "\n",
    "\n",
    "plt.title('Confusion Matrix')\n",
    "plt.xlabel('Predicted Label')\n",
    "plt.ylabel('True Label')\n",
    "plt.show()"
   ]
  },
  {
   "cell_type": "markdown",
   "metadata": {},
   "source": [
    "Add some outliers to the dataset, train an SVM and logistic regression model, and compare the results."
   ]
  },
  {
   "cell_type": "code",
   "execution_count": 271,
   "metadata": {
    "tags": []
   },
   "outputs": [
    {
     "name": "stdout",
     "output_type": "stream",
     "text": [
      "SVM Model:\n",
      "            Positive   Negative  accuracy   macro avg  weighted avg\n",
      "precision   0.731707   0.735294  0.734266    0.733501      0.733864\n",
      "recall      0.526316   0.872093  0.734266    0.699204      0.734266\n",
      "f1-score    0.612245   0.797872  0.734266    0.705059      0.723881\n",
      "support    57.000000  86.000000  0.734266  143.000000    143.000000\n",
      "*******\n",
      "Logistic Regression Model:\n",
      "            Positive   Negative  accuracy   macro avg  weighted avg\n",
      "precision   0.461538   0.615385  0.587413    0.538462      0.554061\n",
      "recall      0.210526   0.837209  0.587413    0.523868      0.587413\n",
      "f1-score    0.289157   0.709360  0.587413    0.499258      0.541866\n",
      "support    57.000000  86.000000  0.587413  143.000000    143.000000\n"
     ]
    }
   ],
   "source": [
    "# from random import random\n",
    "from random import random\n",
    "import pandas as pd\n",
    "from sklearn.impute import SimpleImputer\n",
    "from sklearn.model_selection import train_test_split\n",
    "from sklearn.svm import SVC\n",
    "from sklearn.linear_model import LogisticRegression\n",
    "from sklearn.metrics import accuracy_score, precision_score, recall_score, f1_score\n",
    "from sklearn.preprocessing import Normalizer, SplineTransformer\n",
    "\n",
    "curr_df = df.copy()\n",
    "\n",
    "NUM_OF_OUTLIER_PER_COL = df.shape[0] // 3\n",
    "\n",
    "label_0_proportion = (df['label'].mean() - 1)\n",
    "\n",
    "for column in X.columns[X.columns != 'Gender']:\n",
    "    # Calculate the mean and standard deviation for the column\n",
    "    col_mean = X[column].mean()\n",
    "    col_std = X[column].std()\n",
    "    \n",
    "    sd_dist = [np.random.uniform(3, 5), np.random.uniform(-5, -3)]\n",
    "    \n",
    "    outlier_val_gen = lambda: col_mean + col_std * np.random.choice(sd_dist)\n",
    "    outlier_vals_for_col = [outlier_val_gen() for _ in range(NUM_OF_OUTLIER_PER_COL)]\n",
    "    \n",
    "    outlier_df = pd.DataFrame(outlier_vals_for_col, columns=[column])\n",
    "    adj_label_0_proportion = max(1.0, label_0_proportion * (1 + random() * 0.2))\n",
    "    outlier_label = pd.Series([np.random.choice([1, 2], p=[label_0_proportion, 1-label_0_proportion]) for _ in range(NUM_OF_OUTLIER_PER_COL)], name='label', index=outlier_df.index)\n",
    "\n",
    "    outlier_df_x = MinMaxScaler().fit_transform(outlier_df, outlier_label)\n",
    "    outlier_df = outlier_df_x.join(outlier_label)\n",
    "    \n",
    "    curr_df = pd.concat([df, outlier_df], ignore_index=True)\n",
    "\n",
    "df = curr_df\n",
    "imputer = SimpleImputer(strategy='mean')\n",
    "df = pd.DataFrame(imputer.fit_transform(df), columns=df.columns)\n",
    "\n",
    "# Split the data into test and training sets\n",
    "X_train, X_test, y_train, y_test = train_test_split(df.drop('label', axis=1), df['label'], test_size=0.2, random_state=5217, shuffle=True, stratify=df['label'])\n",
    "\n",
    "# Train an SVM model with default parameters\n",
    "svm_clf = SVC()\n",
    "svm_clf.fit(X_train, y_train)\n",
    "\n",
    "# Train a logistic regression model with default parameters\n",
    "lr_clf = LogisticRegression(max_iter=500)\n",
    "lr_clf.fit(X_train, y_train)\n",
    "\n",
    "# Make predictions on the test set with both models\n",
    "svm_y_pred = svm_clf.predict(X_test)\n",
    "lr_y_pred = lr_clf.predict(X_test)\n",
    "\n",
    "# Calculate evaluation metrics for both models\n",
    "svm_report = classification_report(y_test, svm_y_pred, labels=[2, 1], target_names=['Positive', 'Negative'], output_dict=True)\n",
    "lr_report = classification_report(y_test, lr_y_pred, labels=[2, 1], target_names=['Positive', 'Negative'], output_dict=True)\n",
    "\n",
    "# Print evaluation metrics for both models\n",
    "print(\"SVM Model:\")\n",
    "print(pd.DataFrame(svm_report))\n",
    "print(\"*******\")\n",
    "print(\"Logistic Regression Model:\")\n",
    "print(pd.DataFrame(lr_report))"
   ]
  }
 ],
 "metadata": {
  "kernelspec": {
   "display_name": "Python 3 (ipykernel)",
   "language": "python",
   "name": "python3"
  },
  "language_info": {
   "codemirror_mode": {
    "name": "ipython",
    "version": 3
   },
   "file_extension": ".py",
   "mimetype": "text/x-python",
   "name": "python",
   "nbconvert_exporter": "python",
   "pygments_lexer": "ipython3",
   "version": "3.10.5"
  }
 },
 "nbformat": 4,
 "nbformat_minor": 4
}
